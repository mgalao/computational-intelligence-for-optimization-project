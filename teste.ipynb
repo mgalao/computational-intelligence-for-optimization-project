{
 "cells": [
  {
   "cell_type": "code",
   "execution_count": 20,
   "id": "027d3658",
   "metadata": {},
   "outputs": [],
   "source": [
    "from evolution.entities import *\n",
    "from evolution.crossover import *\n",
    "from evolution.mutation import *"
   ]
  },
  {
   "cell_type": "code",
   "execution_count": 21,
   "id": "8df93867",
   "metadata": {},
   "outputs": [
    {
     "name": "stdout",
     "output_type": "stream",
     "text": [
      "(35, 35)\n"
     ]
    }
   ],
   "source": [
    "print(conflicts_matrix.shape)  # deve dar (35, 35)"
   ]
  },
  {
   "cell_type": "code",
   "execution_count": 22,
   "id": "05df8e09",
   "metadata": {},
   "outputs": [
    {
     "name": "stdout",
     "output_type": "stream",
     "text": [
      "0.2\n"
     ]
    }
   ],
   "source": [
    "print(conflicts_matrix[0][34])"
   ]
  },
  {
   "cell_type": "code",
   "execution_count": 23,
   "id": "4c75deb6",
   "metadata": {},
   "outputs": [
    {
     "name": "stdout",
     "output_type": "stream",
     "text": [
      "Fitness: -0.6792\n",
      "Slot 1: [28, 12, 25, 19, 4]\n",
      "Slot 2: [21, 30, 20, 29, 16]\n",
      "Slot 3: [11, 9, 6, 32, 13]\n",
      "Slot 4: [0, 3, 31, 2, 22]\n",
      "Slot 5: [34, 7, 26, 14, 24]\n",
      "Slot 6: [18, 10, 17, 5, 33]\n",
      "Slot 7: [23, 1, 27, 15, 8]\n"
     ]
    }
   ],
   "source": [
    "ind = Individual()\n",
    "print(ind)"
   ]
  },
  {
   "cell_type": "code",
   "execution_count": 24,
   "id": "43ea091d",
   "metadata": {},
   "outputs": [
    {
     "data": {
      "text/plain": [
       "np.float64(-0.6792098908528929)"
      ]
     },
     "execution_count": 24,
     "metadata": {},
     "output_type": "execute_result"
    }
   ],
   "source": [
    "ind.fitness()"
   ]
  },
  {
   "cell_type": "code",
   "execution_count": 25,
   "id": "dd2633e1",
   "metadata": {},
   "outputs": [],
   "source": [
    "artist_info = {\n",
    "    idx: {'popularity': row['popularity'], 'genre': row['genre']}\n",
    "    for idx, row in artists.iterrows()\n",
    "}"
   ]
  },
  {
   "cell_type": "code",
   "execution_count": 26,
   "id": "43700e0a",
   "metadata": {},
   "outputs": [
    {
     "data": {
      "text/plain": [
       "np.float64(3.46)"
      ]
     },
     "execution_count": 26,
     "metadata": {},
     "output_type": "execute_result"
    }
   ],
   "source": [
    "ind.get_conflict_penalty(conflicts_matrix)"
   ]
  },
  {
   "cell_type": "code",
   "execution_count": 27,
   "id": "2887d652",
   "metadata": {},
   "outputs": [
    {
     "data": {
      "text/plain": [
       "0.7428571428571429"
      ]
     },
     "execution_count": 27,
     "metadata": {},
     "output_type": "execute_result"
    }
   ],
   "source": [
    "ind.get_genre_diversity(artist_info=artist_info)"
   ]
  },
  {
   "cell_type": "code",
   "execution_count": 28,
   "id": "9da8150b",
   "metadata": {},
   "outputs": [
    {
     "data": {
      "text/plain": [
       "0.6795131845841785"
      ]
     },
     "execution_count": 28,
     "metadata": {},
     "output_type": "execute_result"
    }
   ],
   "source": [
    "ind.get_prime_slot_popularity(artist_info=artist_info)"
   ]
  },
  {
   "cell_type": "code",
   "execution_count": 29,
   "id": "6b6f09ab",
   "metadata": {},
   "outputs": [
    {
     "name": "stdout",
     "output_type": "stream",
     "text": [
      "Index([ 0,  1,  2,  3,  4,  5,  6,  7,  8,  9, 10, 11, 12, 13, 14, 15, 16, 17,\n",
      "       18, 19, 20, 21, 22, 23, 24, 25, 26, 27, 28, 29, 30, 31, 32, 33, 34],\n",
      "      dtype='int64')\n"
     ]
    }
   ],
   "source": [
    "print(artists.index)"
   ]
  },
  {
   "cell_type": "code",
   "execution_count": 30,
   "id": "a4cbbf6b",
   "metadata": {},
   "outputs": [
    {
     "name": "stdout",
     "output_type": "stream",
     "text": [
      "Individual 0:\n",
      "Fitness: -0.5560\n",
      "Slot 1: [3, 20, 28, 10, 32]\n",
      "Slot 2: [22, 5, 17, 26, 23]\n",
      "Slot 3: [30, 15, 31, 13, 19]\n",
      "Slot 4: [21, 18, 4, 7, 9]\n",
      "Slot 5: [12, 6, 8, 16, 0]\n",
      "Slot 6: [2, 11, 24, 29, 1]\n",
      "Slot 7: [14, 25, 27, 33, 34]\n",
      "\n",
      "Individual 1:\n",
      "Fitness: -0.5080\n",
      "Slot 1: [6, 11, 3, 22, 28]\n",
      "Slot 2: [32, 12, 14, 34, 18]\n",
      "Slot 3: [31, 23, 25, 21, 30]\n",
      "Slot 4: [24, 33, 0, 7, 19]\n",
      "Slot 5: [13, 9, 5, 20, 8]\n",
      "Slot 6: [15, 17, 16, 27, 1]\n",
      "Slot 7: [10, 26, 2, 29, 4]\n",
      "\n",
      "Individual 2:\n",
      "Fitness: -0.7596\n",
      "Slot 1: [6, 33, 2, 18, 23]\n",
      "Slot 2: [20, 1, 19, 13, 22]\n",
      "Slot 3: [15, 8, 29, 26, 3]\n",
      "Slot 4: [0, 5, 31, 25, 28]\n",
      "Slot 5: [27, 10, 32, 17, 24]\n",
      "Slot 6: [34, 4, 16, 12, 9]\n",
      "Slot 7: [30, 7, 14, 21, 11]\n",
      "\n",
      "Individual 3:\n",
      "Fitness: -0.6041\n",
      "Slot 1: [25, 27, 11, 1, 13]\n",
      "Slot 2: [26, 34, 3, 2, 18]\n",
      "Slot 3: [5, 30, 29, 12, 4]\n",
      "Slot 4: [0, 22, 23, 6, 15]\n",
      "Slot 5: [7, 19, 16, 10, 17]\n",
      "Slot 6: [21, 31, 32, 8, 14]\n",
      "Slot 7: [33, 28, 9, 24, 20]\n",
      "\n",
      "Individual 4:\n",
      "Fitness: -0.7259\n",
      "Slot 1: [8, 6, 13, 0, 16]\n",
      "Slot 2: [26, 12, 32, 20, 14]\n",
      "Slot 3: [23, 15, 22, 2, 24]\n",
      "Slot 4: [21, 19, 31, 11, 17]\n",
      "Slot 5: [27, 5, 3, 30, 34]\n",
      "Slot 6: [28, 7, 4, 33, 9]\n",
      "Slot 7: [1, 25, 18, 29, 10]\n",
      "\n",
      "Individual 5:\n",
      "Fitness: -0.5467\n",
      "Slot 1: [18, 13, 16, 17, 0]\n",
      "Slot 2: [12, 9, 19, 5, 30]\n",
      "Slot 3: [34, 14, 1, 27, 11]\n",
      "Slot 4: [20, 6, 33, 31, 28]\n",
      "Slot 5: [22, 24, 7, 8, 2]\n",
      "Slot 6: [23, 26, 15, 25, 21]\n",
      "Slot 7: [32, 10, 29, 3, 4]\n",
      "\n",
      "Individual 6:\n",
      "Fitness: -0.7921\n",
      "Slot 1: [13, 17, 12, 32, 10]\n",
      "Slot 2: [33, 4, 14, 9, 7]\n",
      "Slot 3: [5, 25, 31, 30, 8]\n",
      "Slot 4: [29, 0, 18, 27, 20]\n",
      "Slot 5: [28, 6, 23, 1, 16]\n",
      "Slot 6: [22, 24, 3, 2, 26]\n",
      "Slot 7: [19, 11, 21, 15, 34]\n",
      "\n",
      "Individual 7:\n",
      "Fitness: -0.6481\n",
      "Slot 1: [4, 1, 0, 33, 22]\n",
      "Slot 2: [24, 17, 14, 29, 2]\n",
      "Slot 3: [25, 13, 31, 18, 8]\n",
      "Slot 4: [16, 34, 26, 11, 23]\n",
      "Slot 5: [3, 5, 30, 27, 6]\n",
      "Slot 6: [12, 7, 9, 10, 28]\n",
      "Slot 7: [19, 32, 20, 21, 15]\n",
      "\n",
      "Individual 8:\n",
      "Fitness: -0.5103\n",
      "Slot 1: [32, 17, 16, 27, 21]\n",
      "Slot 2: [10, 29, 6, 1, 4]\n",
      "Slot 3: [33, 12, 8, 9, 30]\n",
      "Slot 4: [26, 15, 5, 23, 31]\n",
      "Slot 5: [18, 0, 11, 20, 34]\n",
      "Slot 6: [13, 28, 3, 25, 22]\n",
      "Slot 7: [7, 2, 14, 24, 19]\n",
      "\n",
      "Individual 9:\n",
      "Fitness: -0.9018\n",
      "Slot 1: [7, 12, 14, 19, 18]\n",
      "Slot 2: [26, 31, 27, 10, 6]\n",
      "Slot 3: [2, 8, 4, 23, 0]\n",
      "Slot 4: [11, 22, 13, 3, 33]\n",
      "Slot 5: [34, 1, 32, 21, 15]\n",
      "Slot 6: [20, 16, 28, 17, 25]\n",
      "Slot 7: [9, 29, 24, 30, 5]\n",
      "\n",
      "Individual 10:\n",
      "Fitness: -0.5062\n",
      "Slot 1: [24, 12, 28, 27, 5]\n",
      "Slot 2: [2, 18, 17, 15, 34]\n",
      "Slot 3: [33, 25, 32, 31, 19]\n",
      "Slot 4: [22, 11, 9, 26, 3]\n",
      "Slot 5: [1, 13, 29, 20, 21]\n",
      "Slot 6: [6, 8, 16, 14, 10]\n",
      "Slot 7: [30, 7, 0, 23, 4]\n",
      "\n",
      "Individual 11:\n",
      "Fitness: -0.6386\n",
      "Slot 1: [20, 33, 6, 10, 13]\n",
      "Slot 2: [18, 2, 8, 32, 24]\n",
      "Slot 3: [26, 15, 14, 9, 4]\n",
      "Slot 4: [17, 21, 1, 25, 27]\n",
      "Slot 5: [3, 0, 7, 28, 22]\n",
      "Slot 6: [31, 12, 5, 34, 11]\n",
      "Slot 7: [30, 23, 19, 16, 29]\n",
      "\n",
      "Individual 12:\n",
      "Fitness: -0.6076\n",
      "Slot 1: [30, 28, 8, 4, 16]\n",
      "Slot 2: [5, 9, 32, 1, 6]\n",
      "Slot 3: [15, 26, 17, 22, 31]\n",
      "Slot 4: [0, 21, 25, 33, 27]\n",
      "Slot 5: [19, 2, 34, 29, 18]\n",
      "Slot 6: [7, 14, 24, 3, 20]\n",
      "Slot 7: [10, 23, 11, 12, 13]\n",
      "\n",
      "Individual 13:\n",
      "Fitness: -0.6483\n",
      "Slot 1: [18, 24, 14, 27, 22]\n",
      "Slot 2: [5, 6, 1, 16, 28]\n",
      "Slot 3: [26, 31, 34, 25, 33]\n",
      "Slot 4: [8, 23, 3, 29, 21]\n",
      "Slot 5: [10, 12, 9, 11, 13]\n",
      "Slot 6: [2, 19, 15, 17, 7]\n",
      "Slot 7: [32, 4, 0, 20, 30]\n",
      "\n",
      "Individual 14:\n",
      "Fitness: -0.6328\n",
      "Slot 1: [19, 13, 22, 23, 29]\n",
      "Slot 2: [8, 15, 24, 14, 28]\n",
      "Slot 3: [4, 1, 11, 27, 18]\n",
      "Slot 4: [7, 20, 21, 31, 17]\n",
      "Slot 5: [32, 5, 33, 16, 12]\n",
      "Slot 6: [2, 9, 3, 10, 26]\n",
      "Slot 7: [0, 30, 25, 34, 6]\n",
      "\n",
      "Individual 15:\n",
      "Fitness: -0.6936\n",
      "Slot 1: [5, 21, 9, 27, 14]\n",
      "Slot 2: [20, 13, 22, 16, 34]\n",
      "Slot 3: [31, 18, 26, 2, 6]\n",
      "Slot 4: [0, 29, 23, 19, 30]\n",
      "Slot 5: [24, 15, 3, 17, 32]\n",
      "Slot 6: [1, 28, 25, 12, 8]\n",
      "Slot 7: [33, 11, 7, 4, 10]\n",
      "\n",
      "Individual 16:\n",
      "Fitness: -0.4781\n",
      "Slot 1: [1, 28, 20, 8, 22]\n",
      "Slot 2: [32, 3, 26, 10, 23]\n",
      "Slot 3: [34, 11, 7, 14, 29]\n",
      "Slot 4: [21, 18, 31, 5, 24]\n",
      "Slot 5: [19, 27, 2, 25, 33]\n",
      "Slot 6: [15, 0, 17, 30, 16]\n",
      "Slot 7: [9, 4, 13, 6, 12]\n",
      "\n",
      "Individual 17:\n",
      "Fitness: -0.6480\n",
      "Slot 1: [11, 14, 3, 29, 4]\n",
      "Slot 2: [12, 22, 16, 30, 18]\n",
      "Slot 3: [9, 24, 27, 0, 23]\n",
      "Slot 4: [8, 6, 32, 33, 15]\n",
      "Slot 5: [5, 20, 31, 1, 10]\n",
      "Slot 6: [26, 17, 2, 34, 7]\n",
      "Slot 7: [21, 28, 13, 19, 25]\n",
      "\n",
      "Individual 18:\n",
      "Fitness: -0.4939\n",
      "Slot 1: [31, 6, 26, 17, 19]\n",
      "Slot 2: [27, 8, 30, 3, 11]\n",
      "Slot 3: [13, 18, 1, 32, 20]\n",
      "Slot 4: [34, 7, 14, 10, 4]\n",
      "Slot 5: [29, 23, 15, 9, 0]\n",
      "Slot 6: [24, 25, 5, 2, 12]\n",
      "Slot 7: [16, 21, 22, 28, 33]\n",
      "\n",
      "Individual 19:\n",
      "Fitness: -0.8165\n",
      "Slot 1: [30, 2, 9, 26, 4]\n",
      "Slot 2: [22, 32, 24, 16, 6]\n",
      "Slot 3: [21, 3, 18, 19, 8]\n",
      "Slot 4: [0, 12, 33, 5, 27]\n",
      "Slot 5: [23, 13, 1, 15, 7]\n",
      "Slot 6: [11, 31, 17, 20, 29]\n",
      "Slot 7: [25, 28, 10, 14, 34]\n",
      "\n",
      "Individual 20:\n",
      "Fitness: -0.6220\n",
      "Slot 1: [27, 29, 26, 30, 25]\n",
      "Slot 2: [31, 22, 23, 21, 11]\n",
      "Slot 3: [17, 20, 12, 1, 19]\n",
      "Slot 4: [7, 34, 24, 5, 33]\n",
      "Slot 5: [28, 8, 13, 2, 3]\n",
      "Slot 6: [32, 4, 10, 0, 6]\n",
      "Slot 7: [15, 18, 9, 14, 16]\n",
      "\n",
      "Individual 21:\n",
      "Fitness: -0.6396\n",
      "Slot 1: [33, 21, 27, 20, 0]\n",
      "Slot 2: [26, 11, 2, 8, 29]\n",
      "Slot 3: [18, 16, 12, 32, 6]\n",
      "Slot 4: [4, 10, 5, 1, 17]\n",
      "Slot 5: [3, 19, 23, 25, 7]\n",
      "Slot 6: [34, 24, 28, 30, 31]\n",
      "Slot 7: [14, 15, 13, 9, 22]\n",
      "\n",
      "Individual 22:\n",
      "Fitness: -0.5227\n",
      "Slot 1: [11, 20, 29, 10, 28]\n",
      "Slot 2: [3, 15, 7, 24, 16]\n",
      "Slot 3: [14, 4, 32, 13, 12]\n",
      "Slot 4: [8, 27, 9, 21, 2]\n",
      "Slot 5: [31, 25, 26, 18, 34]\n",
      "Slot 6: [19, 5, 30, 0, 1]\n",
      "Slot 7: [17, 22, 6, 33, 23]\n",
      "\n",
      "Individual 23:\n",
      "Fitness: -0.8743\n",
      "Slot 1: [11, 20, 32, 30, 22]\n",
      "Slot 2: [25, 24, 17, 1, 27]\n",
      "Slot 3: [13, 2, 14, 6, 34]\n",
      "Slot 4: [23, 28, 21, 16, 10]\n",
      "Slot 5: [19, 9, 3, 31, 26]\n",
      "Slot 6: [7, 12, 4, 18, 5]\n",
      "Slot 7: [8, 0, 33, 15, 29]\n",
      "\n",
      "Individual 24:\n",
      "Fitness: -0.4547\n",
      "Slot 1: [20, 22, 1, 0, 25]\n",
      "Slot 2: [16, 23, 14, 24, 4]\n",
      "Slot 3: [3, 26, 17, 28, 30]\n",
      "Slot 4: [21, 27, 12, 15, 13]\n",
      "Slot 5: [11, 31, 19, 9, 6]\n",
      "Slot 6: [2, 34, 8, 32, 7]\n",
      "Slot 7: [5, 18, 10, 33, 29]\n",
      "\n",
      "Individual 25:\n",
      "Fitness: -0.6567\n",
      "Slot 1: [10, 11, 13, 14, 28]\n",
      "Slot 2: [7, 22, 19, 26, 0]\n",
      "Slot 3: [15, 25, 9, 33, 31]\n",
      "Slot 4: [6, 17, 21, 8, 12]\n",
      "Slot 5: [24, 23, 29, 1, 32]\n",
      "Slot 6: [27, 3, 34, 30, 20]\n",
      "Slot 7: [4, 16, 18, 5, 2]\n",
      "\n",
      "Individual 26:\n",
      "Fitness: -0.7336\n",
      "Slot 1: [3, 15, 21, 20, 8]\n",
      "Slot 2: [25, 26, 13, 24, 33]\n",
      "Slot 3: [29, 23, 5, 4, 14]\n",
      "Slot 4: [18, 19, 30, 7, 12]\n",
      "Slot 5: [6, 2, 16, 22, 27]\n",
      "Slot 6: [11, 34, 10, 1, 28]\n",
      "Slot 7: [0, 32, 31, 17, 9]\n",
      "\n",
      "Individual 27:\n",
      "Fitness: -0.7167\n",
      "Slot 1: [6, 2, 3, 22, 5]\n",
      "Slot 2: [21, 24, 13, 29, 0]\n",
      "Slot 3: [1, 27, 7, 8, 10]\n",
      "Slot 4: [14, 33, 12, 32, 19]\n",
      "Slot 5: [28, 16, 9, 25, 31]\n",
      "Slot 6: [30, 11, 26, 17, 20]\n",
      "Slot 7: [23, 4, 18, 15, 34]\n",
      "\n",
      "Individual 28:\n",
      "Fitness: -0.5050\n",
      "Slot 1: [21, 26, 14, 0, 20]\n",
      "Slot 2: [32, 28, 15, 4, 6]\n",
      "Slot 3: [22, 30, 12, 11, 13]\n",
      "Slot 4: [16, 10, 24, 5, 2]\n",
      "Slot 5: [23, 34, 18, 33, 17]\n",
      "Slot 6: [27, 1, 9, 8, 3]\n",
      "Slot 7: [7, 25, 19, 31, 29]\n",
      "\n",
      "Individual 29:\n",
      "Fitness: -0.6228\n",
      "Slot 1: [13, 20, 31, 32, 34]\n",
      "Slot 2: [0, 8, 14, 7, 4]\n",
      "Slot 3: [1, 21, 30, 23, 15]\n",
      "Slot 4: [12, 26, 29, 19, 27]\n",
      "Slot 5: [17, 2, 18, 28, 11]\n",
      "Slot 6: [16, 33, 24, 10, 6]\n",
      "Slot 7: [5, 9, 3, 22, 25]\n"
     ]
    }
   ],
   "source": [
    "pop = Population(30)\n",
    "print(pop)"
   ]
  },
  {
   "cell_type": "code",
   "execution_count": 31,
   "id": "d3f29bea",
   "metadata": {},
   "outputs": [
    {
     "data": {
      "text/plain": [
       "[Fitness: -0.4547\n",
       " Slot 1: [20, 22, 1, 0, 25]\n",
       " Slot 2: [16, 23, 14, 24, 4]\n",
       " Slot 3: [3, 26, 17, 28, 30]\n",
       " Slot 4: [21, 27, 12, 15, 13]\n",
       " Slot 5: [11, 31, 19, 9, 6]\n",
       " Slot 6: [2, 34, 8, 32, 7]\n",
       " Slot 7: [5, 18, 10, 33, 29],\n",
       " Fitness: -0.4781\n",
       " Slot 1: [1, 28, 20, 8, 22]\n",
       " Slot 2: [32, 3, 26, 10, 23]\n",
       " Slot 3: [34, 11, 7, 14, 29]\n",
       " Slot 4: [21, 18, 31, 5, 24]\n",
       " Slot 5: [19, 27, 2, 25, 33]\n",
       " Slot 6: [15, 0, 17, 30, 16]\n",
       " Slot 7: [9, 4, 13, 6, 12],\n",
       " Fitness: -0.4939\n",
       " Slot 1: [31, 6, 26, 17, 19]\n",
       " Slot 2: [27, 8, 30, 3, 11]\n",
       " Slot 3: [13, 18, 1, 32, 20]\n",
       " Slot 4: [34, 7, 14, 10, 4]\n",
       " Slot 5: [29, 23, 15, 9, 0]\n",
       " Slot 6: [24, 25, 5, 2, 12]\n",
       " Slot 7: [16, 21, 22, 28, 33],\n",
       " Fitness: -0.5050\n",
       " Slot 1: [21, 26, 14, 0, 20]\n",
       " Slot 2: [32, 28, 15, 4, 6]\n",
       " Slot 3: [22, 30, 12, 11, 13]\n",
       " Slot 4: [16, 10, 24, 5, 2]\n",
       " Slot 5: [23, 34, 18, 33, 17]\n",
       " Slot 6: [27, 1, 9, 8, 3]\n",
       " Slot 7: [7, 25, 19, 31, 29],\n",
       " Fitness: -0.5062\n",
       " Slot 1: [24, 12, 28, 27, 5]\n",
       " Slot 2: [2, 18, 17, 15, 34]\n",
       " Slot 3: [33, 25, 32, 31, 19]\n",
       " Slot 4: [22, 11, 9, 26, 3]\n",
       " Slot 5: [1, 13, 29, 20, 21]\n",
       " Slot 6: [6, 8, 16, 14, 10]\n",
       " Slot 7: [30, 7, 0, 23, 4],\n",
       " Fitness: -0.5080\n",
       " Slot 1: [6, 11, 3, 22, 28]\n",
       " Slot 2: [32, 12, 14, 34, 18]\n",
       " Slot 3: [31, 23, 25, 21, 30]\n",
       " Slot 4: [24, 33, 0, 7, 19]\n",
       " Slot 5: [13, 9, 5, 20, 8]\n",
       " Slot 6: [15, 17, 16, 27, 1]\n",
       " Slot 7: [10, 26, 2, 29, 4],\n",
       " Fitness: -0.5103\n",
       " Slot 1: [32, 17, 16, 27, 21]\n",
       " Slot 2: [10, 29, 6, 1, 4]\n",
       " Slot 3: [33, 12, 8, 9, 30]\n",
       " Slot 4: [26, 15, 5, 23, 31]\n",
       " Slot 5: [18, 0, 11, 20, 34]\n",
       " Slot 6: [13, 28, 3, 25, 22]\n",
       " Slot 7: [7, 2, 14, 24, 19],\n",
       " Fitness: -0.5227\n",
       " Slot 1: [11, 20, 29, 10, 28]\n",
       " Slot 2: [3, 15, 7, 24, 16]\n",
       " Slot 3: [14, 4, 32, 13, 12]\n",
       " Slot 4: [8, 27, 9, 21, 2]\n",
       " Slot 5: [31, 25, 26, 18, 34]\n",
       " Slot 6: [19, 5, 30, 0, 1]\n",
       " Slot 7: [17, 22, 6, 33, 23],\n",
       " Fitness: -0.5467\n",
       " Slot 1: [18, 13, 16, 17, 0]\n",
       " Slot 2: [12, 9, 19, 5, 30]\n",
       " Slot 3: [34, 14, 1, 27, 11]\n",
       " Slot 4: [20, 6, 33, 31, 28]\n",
       " Slot 5: [22, 24, 7, 8, 2]\n",
       " Slot 6: [23, 26, 15, 25, 21]\n",
       " Slot 7: [32, 10, 29, 3, 4],\n",
       " Fitness: -0.5560\n",
       " Slot 1: [3, 20, 28, 10, 32]\n",
       " Slot 2: [22, 5, 17, 26, 23]\n",
       " Slot 3: [30, 15, 31, 13, 19]\n",
       " Slot 4: [21, 18, 4, 7, 9]\n",
       " Slot 5: [12, 6, 8, 16, 0]\n",
       " Slot 6: [2, 11, 24, 29, 1]\n",
       " Slot 7: [14, 25, 27, 33, 34]]"
      ]
     },
     "execution_count": 31,
     "metadata": {},
     "output_type": "execute_result"
    }
   ],
   "source": [
    "pop.best_individuals(n=10)"
   ]
  },
  {
   "cell_type": "markdown",
   "id": "ce836d48",
   "metadata": {},
   "source": [
    "## Crossovers"
   ]
  },
  {
   "cell_type": "markdown",
   "id": "fd6616f5",
   "metadata": {},
   "source": [
    "### PMX Crossover"
   ]
  },
  {
   "cell_type": "code",
   "execution_count": 32,
   "id": "f0b3ad22",
   "metadata": {},
   "outputs": [
    {
     "name": "stdout",
     "output_type": "stream",
     "text": [
      "Parent 1:\n",
      "Fitness: -0.8222\n",
      "Slot 1: [6, 25, 10, 20, 26]\n",
      "Slot 2: [11, 34, 3, 0, 22]\n",
      "Slot 3: [27, 1, 31, 9, 33]\n",
      "Slot 4: [24, 21, 23, 13, 2]\n",
      "Slot 5: [4, 17, 28, 16, 7]\n",
      "Slot 6: [12, 32, 8, 14, 18]\n",
      "Slot 7: [30, 5, 19, 29, 15]\n",
      "Fitness: -0.8222408963585436\n",
      "\n",
      "Parent 2:\n",
      "Fitness: -0.5161\n",
      "Slot 1: [2, 8, 18, 11, 33]\n",
      "Slot 2: [22, 4, 7, 24, 3]\n",
      "Slot 3: [30, 26, 20, 10, 12]\n",
      "Slot 4: [27, 34, 29, 28, 17]\n",
      "Slot 5: [23, 6, 1, 32, 15]\n",
      "Slot 6: [21, 16, 5, 13, 25]\n",
      "Slot 7: [14, 0, 31, 9, 19]\n",
      "Fitness: -0.5161465275765481\n",
      "\n"
     ]
    }
   ],
   "source": [
    "parent1 = Individual()\n",
    "parent2 = Individual()\n",
    "\n",
    "print(\"Parent 1:\")\n",
    "print(parent1)\n",
    "print(\"Fitness:\", parent1.fitness())\n",
    "print()\n",
    "\n",
    "print(\"Parent 2:\")\n",
    "print(parent2)\n",
    "print(\"Fitness:\", parent2.fitness())\n",
    "print()"
   ]
  },
  {
   "cell_type": "code",
   "execution_count": 33,
   "id": "a18dc346",
   "metadata": {},
   "outputs": [
    {
     "name": "stdout",
     "output_type": "stream",
     "text": [
      "Offspring 1:\n",
      "Fitness: -0.8222\n",
      "Slot 1: [6, 25, 10, 20, 26]\n",
      "Slot 2: [22, 34, 3, 0, 11]\n",
      "Slot 3: [27, 1, 31, 9, 33]\n",
      "Slot 4: [24, 21, 23, 13, 2]\n",
      "Slot 5: [4, 17, 28, 16, 7]\n",
      "Slot 6: [12, 32, 8, 14, 18]\n",
      "Slot 7: [30, 5, 19, 29, 15]\n",
      "Fitness: -0.8222408963585436\n",
      "\n",
      "Offspring 2:\n",
      "Fitness: -0.5278\n",
      "Slot 1: [2, 8, 18, 22, 33]\n",
      "Slot 2: [11, 4, 7, 24, 3]\n",
      "Slot 3: [30, 26, 20, 10, 12]\n",
      "Slot 4: [27, 34, 29, 28, 17]\n",
      "Slot 5: [23, 6, 1, 32, 15]\n",
      "Slot 6: [21, 16, 5, 13, 25]\n",
      "Slot 7: [14, 0, 31, 9, 19]\n",
      "Fitness: -0.5278131942432145\n"
     ]
    }
   ],
   "source": [
    "offspring1, offspring2 = pmx_crossover(parent1, parent2)\n",
    "\n",
    "print(\"Offspring 1:\")\n",
    "print(offspring1)\n",
    "print(\"Fitness:\", offspring1.fitness())\n",
    "print()\n",
    "\n",
    "print(\"Offspring 2:\")\n",
    "print(offspring2)\n",
    "print(\"Fitness:\", offspring2.fitness())"
   ]
  },
  {
   "cell_type": "markdown",
   "id": "e594dbbf",
   "metadata": {},
   "source": [
    "### Eager Breeder Crossover"
   ]
  },
  {
   "cell_type": "code",
   "execution_count": 34,
   "id": "ddf72712",
   "metadata": {},
   "outputs": [
    {
     "name": "stdout",
     "output_type": "stream",
     "text": [
      "Parent 1:\n",
      "Fitness: -0.8798\n",
      "Slot 1: [9, 7, 15, 13, 0]\n",
      "Slot 2: [8, 5, 17, 33, 31]\n",
      "Slot 3: [6, 12, 25, 4, 29]\n",
      "Slot 4: [2, 26, 16, 21, 20]\n",
      "Slot 5: [10, 23, 28, 32, 22]\n",
      "Slot 6: [19, 14, 3, 11, 18]\n",
      "Slot 7: [1, 24, 34, 27, 30]\n",
      "Fitness: -0.8798097169902445\n",
      "\n",
      "Parent 2:\n",
      "Fitness: -0.8274\n",
      "Slot 1: [21, 15, 3, 10, 31]\n",
      "Slot 2: [32, 6, 7, 24, 1]\n",
      "Slot 3: [18, 8, 5, 27, 29]\n",
      "Slot 4: [28, 13, 0, 23, 20]\n",
      "Slot 5: [11, 2, 9, 19, 22]\n",
      "Slot 6: [26, 14, 33, 12, 30]\n",
      "Slot 7: [34, 4, 16, 25, 17]\n",
      "Fitness: -0.8273659808751089\n",
      "\n"
     ]
    }
   ],
   "source": [
    "parent1 = Individual()\n",
    "parent2 = Individual()\n",
    "\n",
    "print(\"Parent 1:\")\n",
    "print(parent1)\n",
    "print(\"Fitness:\", parent1.fitness())\n",
    "print()\n",
    "\n",
    "print(\"Parent 2:\")\n",
    "print(parent2)\n",
    "print(\"Fitness:\", parent2.fitness())\n",
    "print()"
   ]
  },
  {
   "cell_type": "code",
   "execution_count": 35,
   "id": "0460e31e",
   "metadata": {},
   "outputs": [
    {
     "name": "stdout",
     "output_type": "stream",
     "text": [
      "\n",
      "--- Top Slot Fitness Scores ---\n",
      "Slot  1 | Fitness: 0.2400 | Artists: [32, 6, 7, 24, 1]\n",
      "Slot  2 | Fitness: 0.2325 | Artists: [2, 26, 16, 21, 20]\n",
      "Slot  3 | Fitness: 0.0800 | Artists: [8, 5, 17, 33, 31]\n",
      "Slot  4 | Fitness: 0.0800 | Artists: [6, 12, 25, 4, 29]\n",
      "Slot  5 | Fitness: 0.0600 | Artists: [1, 24, 34, 27, 30]\n",
      "Slot  6 | Fitness: 0.0600 | Artists: [21, 15, 3, 10, 31]\n",
      "Slot  7 | Fitness: 0.0600 | Artists: [18, 8, 5, 27, 29]\n",
      "-----------------------------------\n",
      "\n",
      "Total artists expected: 35\n",
      "Duplicates detected: [21, 31, 8, 5, 27, 29, 1, 24, 6]\n",
      "Missing artists: [0, 9, 11, 13, 14, 19, 22, 23, 28]\n",
      "\n",
      "Replacing duplicate artist 21 in slot 0, stage 0 with missing artist 0\n",
      "Replacing duplicate artist 31 in slot 0, stage 4 with missing artist 9\n",
      "Replacing duplicate artist 8 in slot 1, stage 1 with missing artist 11\n",
      "Replacing duplicate artist 5 in slot 1, stage 2 with missing artist 13\n",
      "Replacing duplicate artist 27 in slot 1, stage 3 with missing artist 14\n",
      "Replacing duplicate artist 29 in slot 1, stage 4 with missing artist 19\n",
      "Replacing duplicate artist 1 in slot 2, stage 0 with missing artist 22\n",
      "Replacing duplicate artist 24 in slot 2, stage 1 with missing artist 23\n",
      "Replacing duplicate artist 6 in slot 4, stage 0 with missing artist 28\n",
      "\n",
      "--- Final Offspring Representation ---\n",
      "Slot 1: [0, 15, 3, 10, 9]\n",
      "Slot 2: [18, 11, 13, 14, 19]\n",
      "Slot 3: [22, 23, 34, 27, 30]\n",
      "Slot 4: [8, 5, 17, 33, 31]\n",
      "Slot 5: [28, 12, 25, 4, 29]\n",
      "Slot 6: [2, 26, 16, 21, 20]\n",
      "Slot 7: [32, 6, 7, 24, 1]\n",
      "------------------------------------------\n",
      "\n",
      "Offspring 1:\n",
      "Fitness: -0.8678\n",
      "Slot 1: [0, 15, 3, 10, 9]\n",
      "Slot 2: [18, 11, 13, 14, 19]\n",
      "Slot 3: [22, 23, 34, 27, 30]\n",
      "Slot 4: [8, 5, 17, 33, 31]\n",
      "Slot 5: [28, 12, 25, 4, 29]\n",
      "Slot 6: [2, 26, 16, 21, 20]\n",
      "Slot 7: [32, 6, 7, 24, 1]\n",
      "Fitness: -0.867840722495895\n",
      "\n"
     ]
    }
   ],
   "source": [
    "offspring1, offspring2 = eager_breeder_crossover(parent1, parent2, verbose=True)\n",
    "\n",
    "print(\"Offspring 1:\")\n",
    "print(offspring1)\n",
    "print(\"Fitness:\", offspring1.fitness())\n",
    "print()"
   ]
  },
  {
   "cell_type": "markdown",
   "id": "e09f755a",
   "metadata": {},
   "source": [
    "## Mutations"
   ]
  },
  {
   "cell_type": "code",
   "execution_count": null,
   "id": "193051db",
   "metadata": {},
   "outputs": [
    {
     "name": "stdout",
     "output_type": "stream",
     "text": [
      "Swap 1: (2,2) [6] <--> (4,4) [24]\n",
      "Swap 2: (0,4) [4] <--> (1,2) [20]\n"
     ]
    },
    {
     "data": {
      "text/plain": [
       "[[28, 12, 25, 19, 20],\n",
       " [21, 30, 4, 29, 16],\n",
       " [11, 9, 24, 32, 13],\n",
       " [0, 3, 31, 2, 22],\n",
       " [34, 7, 26, 14, 6],\n",
       " [18, 10, 17, 5, 33],\n",
       " [23, 1, 27, 15, 8]]"
      ]
     },
     "execution_count": 36,
     "metadata": {},
     "output_type": "execute_result"
    }
   ],
   "source": [
    "n_swap_mutation(ind.repr, mut_prob=1, n_swaps=2)"
   ]
  },
  {
   "cell_type": "code",
   "execution_count": null,
   "id": "a640b735",
   "metadata": {},
   "outputs": [
    {
     "name": "stdout",
     "output_type": "stream",
     "text": [
      "Stage: 4, Slots: 1-4, Length: 4\n",
      "Before: [16, 13, 22, 24]\n",
      "After: [24, 22, 16, 13]\n"
     ]
    },
    {
     "data": {
      "text/plain": [
       "[[28, 12, 25, 19, 4],\n",
       " [21, 30, 20, 29, 24],\n",
       " [11, 9, 6, 32, 22],\n",
       " [0, 3, 31, 2, 16],\n",
       " [34, 7, 26, 14, 13],\n",
       " [18, 10, 17, 5, 33],\n",
       " [23, 1, 27, 15, 8]]"
      ]
     },
     "execution_count": 43,
     "metadata": {},
     "output_type": "execute_result"
    }
   ],
   "source": [
    "scramble_mutation(ind.repr, mut_prob=1, max_segment_length=4)"
   ]
  },
  {
   "cell_type": "code",
   "execution_count": 38,
   "id": "b96cddea",
   "metadata": {},
   "outputs": [
    {
     "name": "stdout",
     "output_type": "stream",
     "text": [
      "Swapping row 6 (prime slot) with row 4.\n",
      "Before - Prime Slot: [23, 1, 27, 15, 8]\n",
      "Before - Other Slot: [34, 7, 26, 14, 24]\n",
      "After  - Prime Slot: [34, 7, 26, 14, 24]\n",
      "After  - Other Slot : [23, 1, 27, 15, 8]\n"
     ]
    },
    {
     "data": {
      "text/plain": [
       "[[28, 12, 25, 19, 4],\n",
       " [21, 30, 20, 29, 16],\n",
       " [11, 9, 6, 32, 13],\n",
       " [0, 3, 31, 2, 22],\n",
       " [23, 1, 27, 15, 8],\n",
       " [18, 10, 17, 5, 33],\n",
       " [34, 7, 26, 14, 24]]"
      ]
     },
     "execution_count": 38,
     "metadata": {},
     "output_type": "execute_result"
    }
   ],
   "source": [
    "prime_slot_swap_mutation(ind.repr, mut_prob=1)"
   ]
  }
 ],
 "metadata": {
  "kernelspec": {
   "display_name": "Python 3",
   "language": "python",
   "name": "python3"
  },
  "language_info": {
   "codemirror_mode": {
    "name": "ipython",
    "version": 3
   },
   "file_extension": ".py",
   "mimetype": "text/x-python",
   "name": "python",
   "nbconvert_exporter": "python",
   "pygments_lexer": "ipython3",
   "version": "3.11.0"
  }
 },
 "nbformat": 4,
 "nbformat_minor": 5
}
