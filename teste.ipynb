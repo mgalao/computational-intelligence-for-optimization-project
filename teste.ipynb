{
 "cells": [
  {
   "cell_type": "code",
   "execution_count": 1,
   "id": "027d3658",
   "metadata": {},
   "outputs": [],
   "source": [
    "from evolution.entities import *\n",
    "from evolution.crossover import *"
   ]
  },
  {
   "cell_type": "code",
   "execution_count": 2,
   "id": "8df93867",
   "metadata": {},
   "outputs": [
    {
     "name": "stdout",
     "output_type": "stream",
     "text": [
      "(35, 35)\n"
     ]
    }
   ],
   "source": [
    "print(conflicts_matrix.shape)  # deve dar (35, 35)"
   ]
  },
  {
   "cell_type": "code",
   "execution_count": 3,
   "id": "05df8e09",
   "metadata": {},
   "outputs": [
    {
     "name": "stdout",
     "output_type": "stream",
     "text": [
      "0.2\n"
     ]
    }
   ],
   "source": [
    "print(conflicts_matrix[0][34])"
   ]
  },
  {
   "cell_type": "code",
   "execution_count": 4,
   "id": "4c75deb6",
   "metadata": {},
   "outputs": [
    {
     "name": "stdout",
     "output_type": "stream",
     "text": [
      "Fitness: -0.5975\n",
      "Slot 1: [10, 2, 18, 24, 27]\n",
      "Slot 2: [3, 14, 0, 9, 25]\n",
      "Slot 3: [22, 4, 8, 23, 26]\n",
      "Slot 4: [16, 32, 1, 29, 5]\n",
      "Slot 5: [6, 28, 11, 15, 12]\n",
      "Slot 6: [13, 17, 19, 7, 31]\n",
      "Slot 7: [33, 21, 34, 20, 30]\n"
     ]
    }
   ],
   "source": [
    "ind = Individual()\n",
    "print(ind)"
   ]
  },
  {
   "cell_type": "code",
   "execution_count": 5,
   "id": "43ea091d",
   "metadata": {},
   "outputs": [
    {
     "data": {
      "text/plain": [
       "np.float64(-0.5975248720177726)"
      ]
     },
     "execution_count": 5,
     "metadata": {},
     "output_type": "execute_result"
    }
   ],
   "source": [
    "ind.fitness()"
   ]
  },
  {
   "cell_type": "code",
   "execution_count": 18,
   "id": "dd2633e1",
   "metadata": {},
   "outputs": [],
   "source": [
    "artist_info = {\n",
    "    idx: {'popularity': row['popularity'], 'genre': row['genre']}\n",
    "    for idx, row in artists.iterrows()\n",
    "}"
   ]
  },
  {
   "cell_type": "code",
   "execution_count": 19,
   "id": "43700e0a",
   "metadata": {},
   "outputs": [
    {
     "data": {
      "text/plain": [
       "np.float64(3.125)"
      ]
     },
     "execution_count": 19,
     "metadata": {},
     "output_type": "execute_result"
    }
   ],
   "source": [
    "ind.get_conflict_penalty(conflicts_matrix)"
   ]
  },
  {
   "cell_type": "code",
   "execution_count": 20,
   "id": "2887d652",
   "metadata": {},
   "outputs": [
    {
     "data": {
      "text/plain": [
       "0.6285714285714287"
      ]
     },
     "execution_count": 20,
     "metadata": {},
     "output_type": "execute_result"
    }
   ],
   "source": [
    "ind.get_genre_diversity(artist_info=artist_info)"
   ]
  },
  {
   "cell_type": "code",
   "execution_count": 21,
   "id": "9da8150b",
   "metadata": {},
   "outputs": [
    {
     "data": {
      "text/plain": [
       "0.7038539553752535"
      ]
     },
     "execution_count": 21,
     "metadata": {},
     "output_type": "execute_result"
    }
   ],
   "source": [
    "ind.get_prime_slot_popularity(artist_info=artist_info)"
   ]
  },
  {
   "cell_type": "code",
   "execution_count": 6,
   "id": "6b6f09ab",
   "metadata": {},
   "outputs": [
    {
     "name": "stdout",
     "output_type": "stream",
     "text": [
      "Index([ 0,  1,  2,  3,  4,  5,  6,  7,  8,  9, 10, 11, 12, 13, 14, 15, 16, 17,\n",
      "       18, 19, 20, 21, 22, 23, 24, 25, 26, 27, 28, 29, 30, 31, 32, 33, 34],\n",
      "      dtype='int64')\n"
     ]
    }
   ],
   "source": [
    "print(artists.index)"
   ]
  },
  {
   "cell_type": "code",
   "execution_count": 7,
   "id": "a4cbbf6b",
   "metadata": {},
   "outputs": [
    {
     "name": "stdout",
     "output_type": "stream",
     "text": [
      "Individual 0:\n",
      "Fitness: -0.6933\n",
      "Slot 1: [21, 23, 10, 6, 19]\n",
      "Slot 2: [26, 18, 30, 25, 7]\n",
      "Slot 3: [33, 29, 9, 2, 32]\n",
      "Slot 4: [34, 31, 15, 14, 24]\n",
      "Slot 5: [22, 1, 28, 8, 4]\n",
      "Slot 6: [16, 3, 11, 13, 20]\n",
      "Slot 7: [5, 27, 0, 12, 17]\n",
      "\n",
      "Individual 1:\n",
      "Fitness: -0.5414\n",
      "Slot 1: [33, 0, 12, 32, 20]\n",
      "Slot 2: [7, 6, 28, 10, 1]\n",
      "Slot 3: [21, 15, 26, 19, 3]\n",
      "Slot 4: [5, 23, 8, 24, 30]\n",
      "Slot 5: [2, 9, 13, 18, 17]\n",
      "Slot 6: [25, 34, 22, 27, 16]\n",
      "Slot 7: [4, 29, 31, 14, 11]\n",
      "\n",
      "Individual 2:\n",
      "Fitness: -0.6164\n",
      "Slot 1: [27, 3, 10, 0, 33]\n",
      "Slot 2: [32, 14, 24, 16, 15]\n",
      "Slot 3: [9, 8, 20, 4, 23]\n",
      "Slot 4: [19, 34, 29, 11, 28]\n",
      "Slot 5: [5, 30, 26, 22, 25]\n",
      "Slot 6: [6, 1, 12, 13, 21]\n",
      "Slot 7: [17, 18, 31, 7, 2]\n",
      "\n",
      "Individual 3:\n",
      "Fitness: -0.6581\n",
      "Slot 1: [7, 26, 5, 17, 11]\n",
      "Slot 2: [23, 31, 20, 28, 21]\n",
      "Slot 3: [24, 0, 15, 12, 10]\n",
      "Slot 4: [4, 30, 18, 1, 6]\n",
      "Slot 5: [29, 16, 13, 25, 14]\n",
      "Slot 6: [3, 27, 34, 19, 32]\n",
      "Slot 7: [9, 2, 33, 8, 22]\n",
      "\n",
      "Individual 4:\n",
      "Fitness: -0.7193\n",
      "Slot 1: [1, 8, 14, 23, 13]\n",
      "Slot 2: [21, 3, 0, 34, 31]\n",
      "Slot 3: [9, 18, 11, 24, 22]\n",
      "Slot 4: [10, 29, 2, 16, 5]\n",
      "Slot 5: [17, 33, 32, 25, 20]\n",
      "Slot 6: [4, 19, 15, 26, 28]\n",
      "Slot 7: [30, 27, 6, 7, 12]\n",
      "\n",
      "Individual 5:\n",
      "Fitness: -0.5516\n",
      "Slot 1: [9, 34, 8, 15, 20]\n",
      "Slot 2: [21, 2, 26, 10, 11]\n",
      "Slot 3: [32, 29, 23, 1, 24]\n",
      "Slot 4: [30, 19, 7, 27, 0]\n",
      "Slot 5: [16, 28, 25, 5, 18]\n",
      "Slot 6: [3, 4, 14, 17, 33]\n",
      "Slot 7: [12, 22, 13, 31, 6]\n",
      "\n",
      "Individual 6:\n",
      "Fitness: -0.7030\n",
      "Slot 1: [24, 20, 31, 8, 3]\n",
      "Slot 2: [19, 18, 9, 14, 17]\n",
      "Slot 3: [21, 13, 29, 22, 32]\n",
      "Slot 4: [0, 15, 25, 10, 26]\n",
      "Slot 5: [6, 16, 2, 23, 4]\n",
      "Slot 6: [7, 27, 1, 30, 12]\n",
      "Slot 7: [11, 28, 5, 33, 34]\n",
      "\n",
      "Individual 7:\n",
      "Fitness: -0.6532\n",
      "Slot 1: [25, 8, 10, 15, 27]\n",
      "Slot 2: [3, 9, 20, 14, 33]\n",
      "Slot 3: [12, 13, 28, 24, 7]\n",
      "Slot 4: [11, 18, 0, 5, 22]\n",
      "Slot 5: [19, 23, 26, 21, 4]\n",
      "Slot 6: [30, 16, 34, 6, 29]\n",
      "Slot 7: [2, 17, 1, 32, 31]\n",
      "\n",
      "Individual 8:\n",
      "Fitness: -0.5482\n",
      "Slot 1: [33, 24, 6, 27, 12]\n",
      "Slot 2: [29, 20, 16, 19, 18]\n",
      "Slot 3: [9, 32, 26, 5, 13]\n",
      "Slot 4: [17, 21, 30, 1, 25]\n",
      "Slot 5: [4, 7, 3, 11, 31]\n",
      "Slot 6: [23, 2, 28, 14, 15]\n",
      "Slot 7: [10, 0, 8, 34, 22]\n",
      "\n",
      "Individual 9:\n",
      "Fitness: -0.6990\n",
      "Slot 1: [22, 0, 10, 27, 26]\n",
      "Slot 2: [12, 9, 23, 29, 34]\n",
      "Slot 3: [3, 30, 2, 24, 33]\n",
      "Slot 4: [8, 6, 20, 25, 21]\n",
      "Slot 5: [17, 32, 13, 7, 4]\n",
      "Slot 6: [19, 11, 5, 1, 15]\n",
      "Slot 7: [18, 16, 14, 28, 31]\n",
      "\n",
      "Individual 10:\n",
      "Fitness: -0.7422\n",
      "Slot 1: [1, 24, 26, 33, 32]\n",
      "Slot 2: [7, 31, 0, 28, 3]\n",
      "Slot 3: [10, 16, 19, 4, 25]\n",
      "Slot 4: [34, 14, 20, 27, 5]\n",
      "Slot 5: [18, 2, 15, 11, 30]\n",
      "Slot 6: [6, 12, 9, 13, 21]\n",
      "Slot 7: [8, 22, 23, 29, 17]\n",
      "\n",
      "Individual 11:\n",
      "Fitness: -0.6356\n",
      "Slot 1: [29, 11, 6, 18, 20]\n",
      "Slot 2: [3, 16, 21, 9, 28]\n",
      "Slot 3: [10, 7, 15, 1, 0]\n",
      "Slot 4: [24, 2, 19, 26, 4]\n",
      "Slot 5: [13, 27, 31, 22, 33]\n",
      "Slot 6: [23, 32, 14, 5, 34]\n",
      "Slot 7: [12, 17, 25, 8, 30]\n",
      "\n",
      "Individual 12:\n",
      "Fitness: -0.5806\n",
      "Slot 1: [28, 29, 19, 34, 12]\n",
      "Slot 2: [9, 6, 14, 20, 15]\n",
      "Slot 3: [8, 10, 11, 3, 31]\n",
      "Slot 4: [2, 32, 21, 24, 23]\n",
      "Slot 5: [5, 0, 18, 25, 33]\n",
      "Slot 6: [26, 7, 30, 17, 16]\n",
      "Slot 7: [4, 13, 1, 27, 22]\n",
      "\n",
      "Individual 13:\n",
      "Fitness: -0.6089\n",
      "Slot 1: [34, 27, 25, 32, 18]\n",
      "Slot 2: [20, 3, 24, 8, 5]\n",
      "Slot 3: [29, 30, 2, 22, 4]\n",
      "Slot 4: [14, 13, 6, 19, 7]\n",
      "Slot 5: [26, 9, 21, 10, 31]\n",
      "Slot 6: [0, 28, 1, 15, 11]\n",
      "Slot 7: [17, 12, 23, 33, 16]\n",
      "\n",
      "Individual 14:\n",
      "Fitness: -0.5020\n",
      "Slot 1: [19, 20, 12, 15, 17]\n",
      "Slot 2: [8, 26, 13, 11, 21]\n",
      "Slot 3: [28, 33, 2, 0, 4]\n",
      "Slot 4: [7, 5, 31, 32, 18]\n",
      "Slot 5: [27, 25, 34, 22, 24]\n",
      "Slot 6: [6, 30, 3, 10, 9]\n",
      "Slot 7: [14, 1, 29, 23, 16]\n",
      "\n",
      "Individual 15:\n",
      "Fitness: -0.6506\n",
      "Slot 1: [13, 32, 16, 7, 9]\n",
      "Slot 2: [26, 21, 0, 19, 15]\n",
      "Slot 3: [2, 31, 17, 29, 1]\n",
      "Slot 4: [22, 28, 27, 12, 33]\n",
      "Slot 5: [30, 3, 14, 23, 5]\n",
      "Slot 6: [8, 4, 34, 24, 6]\n",
      "Slot 7: [18, 20, 10, 11, 25]\n",
      "\n",
      "Individual 16:\n",
      "Fitness: -0.7683\n",
      "Slot 1: [6, 9, 24, 10, 13]\n",
      "Slot 2: [22, 34, 16, 4, 7]\n",
      "Slot 3: [30, 26, 29, 18, 2]\n",
      "Slot 4: [11, 21, 25, 32, 5]\n",
      "Slot 5: [23, 20, 8, 14, 19]\n",
      "Slot 6: [33, 27, 15, 12, 3]\n",
      "Slot 7: [1, 28, 31, 17, 0]\n",
      "\n",
      "Individual 17:\n",
      "Fitness: -0.9228\n",
      "Slot 1: [34, 17, 3, 18, 33]\n",
      "Slot 2: [15, 4, 31, 7, 13]\n",
      "Slot 3: [22, 21, 16, 2, 1]\n",
      "Slot 4: [11, 10, 32, 20, 26]\n",
      "Slot 5: [24, 19, 23, 30, 14]\n",
      "Slot 6: [28, 9, 29, 25, 5]\n",
      "Slot 7: [12, 0, 27, 6, 8]\n",
      "\n",
      "Individual 18:\n",
      "Fitness: -0.6236\n",
      "Slot 1: [17, 20, 15, 16, 12]\n",
      "Slot 2: [5, 32, 29, 11, 26]\n",
      "Slot 3: [0, 1, 24, 27, 7]\n",
      "Slot 4: [33, 14, 30, 10, 2]\n",
      "Slot 5: [19, 21, 9, 13, 31]\n",
      "Slot 6: [3, 18, 34, 23, 28]\n",
      "Slot 7: [4, 6, 25, 22, 8]\n",
      "\n",
      "Individual 19:\n",
      "Fitness: -0.5460\n",
      "Slot 1: [14, 30, 5, 2, 1]\n",
      "Slot 2: [7, 20, 25, 9, 28]\n",
      "Slot 3: [23, 33, 13, 24, 17]\n",
      "Slot 4: [8, 10, 4, 32, 0]\n",
      "Slot 5: [18, 19, 31, 34, 27]\n",
      "Slot 6: [16, 6, 3, 21, 15]\n",
      "Slot 7: [22, 11, 29, 12, 26]\n",
      "\n",
      "Individual 20:\n",
      "Fitness: -0.5859\n",
      "Slot 1: [27, 5, 15, 34, 18]\n",
      "Slot 2: [22, 17, 4, 32, 26]\n",
      "Slot 3: [31, 3, 9, 2, 7]\n",
      "Slot 4: [14, 8, 16, 25, 23]\n",
      "Slot 5: [12, 19, 13, 11, 24]\n",
      "Slot 6: [6, 1, 20, 30, 29]\n",
      "Slot 7: [33, 21, 0, 10, 28]\n",
      "\n",
      "Individual 21:\n",
      "Fitness: -0.6949\n",
      "Slot 1: [6, 27, 28, 23, 7]\n",
      "Slot 2: [20, 29, 12, 19, 31]\n",
      "Slot 3: [1, 21, 2, 34, 14]\n",
      "Slot 4: [11, 26, 32, 25, 10]\n",
      "Slot 5: [15, 17, 33, 4, 16]\n",
      "Slot 6: [5, 13, 9, 18, 8]\n",
      "Slot 7: [0, 3, 22, 30, 24]\n",
      "\n",
      "Individual 22:\n",
      "Fitness: -0.6637\n",
      "Slot 1: [23, 19, 3, 24, 8]\n",
      "Slot 2: [0, 2, 20, 34, 26]\n",
      "Slot 3: [31, 29, 30, 18, 15]\n",
      "Slot 4: [21, 1, 6, 5, 16]\n",
      "Slot 5: [14, 13, 9, 32, 12]\n",
      "Slot 6: [27, 7, 10, 25, 28]\n",
      "Slot 7: [22, 17, 33, 4, 11]\n",
      "\n",
      "Individual 23:\n",
      "Fitness: -0.6327\n",
      "Slot 1: [34, 12, 31, 10, 23]\n",
      "Slot 2: [30, 2, 27, 11, 18]\n",
      "Slot 3: [29, 25, 1, 15, 26]\n",
      "Slot 4: [14, 20, 24, 22, 19]\n",
      "Slot 5: [0, 5, 28, 33, 16]\n",
      "Slot 6: [6, 4, 8, 13, 9]\n",
      "Slot 7: [3, 21, 7, 32, 17]\n",
      "\n",
      "Individual 24:\n",
      "Fitness: -0.5151\n",
      "Slot 1: [30, 19, 24, 17, 26]\n",
      "Slot 2: [10, 14, 0, 8, 23]\n",
      "Slot 3: [16, 2, 22, 20, 31]\n",
      "Slot 4: [29, 15, 5, 18, 32]\n",
      "Slot 5: [12, 6, 1, 25, 7]\n",
      "Slot 6: [13, 11, 33, 27, 28]\n",
      "Slot 7: [9, 34, 4, 21, 3]\n",
      "\n",
      "Individual 25:\n",
      "Fitness: -0.8470\n",
      "Slot 1: [13, 32, 15, 19, 33]\n",
      "Slot 2: [10, 17, 0, 29, 11]\n",
      "Slot 3: [31, 1, 28, 5, 4]\n",
      "Slot 4: [6, 25, 9, 7, 20]\n",
      "Slot 5: [18, 23, 14, 34, 21]\n",
      "Slot 6: [12, 8, 16, 22, 3]\n",
      "Slot 7: [24, 2, 27, 30, 26]\n",
      "\n",
      "Individual 26:\n",
      "Fitness: -0.7250\n",
      "Slot 1: [7, 18, 26, 2, 13]\n",
      "Slot 2: [25, 12, 6, 8, 30]\n",
      "Slot 3: [28, 34, 0, 27, 11]\n",
      "Slot 4: [21, 23, 19, 10, 33]\n",
      "Slot 5: [4, 15, 14, 32, 1]\n",
      "Slot 6: [31, 9, 29, 5, 3]\n",
      "Slot 7: [20, 22, 17, 16, 24]\n",
      "\n",
      "Individual 27:\n",
      "Fitness: -0.6872\n",
      "Slot 1: [10, 3, 31, 34, 12]\n",
      "Slot 2: [30, 4, 14, 28, 27]\n",
      "Slot 3: [2, 7, 6, 21, 9]\n",
      "Slot 4: [20, 17, 11, 15, 18]\n",
      "Slot 5: [26, 16, 32, 24, 22]\n",
      "Slot 6: [1, 8, 23, 29, 19]\n",
      "Slot 7: [25, 33, 13, 0, 5]\n",
      "\n",
      "Individual 28:\n",
      "Fitness: -0.5838\n",
      "Slot 1: [6, 27, 29, 28, 1]\n",
      "Slot 2: [25, 17, 12, 3, 9]\n",
      "Slot 3: [19, 20, 14, 11, 32]\n",
      "Slot 4: [30, 24, 16, 8, 15]\n",
      "Slot 5: [21, 22, 0, 33, 13]\n",
      "Slot 6: [4, 18, 10, 5, 2]\n",
      "Slot 7: [31, 23, 26, 34, 7]\n",
      "\n",
      "Individual 29:\n",
      "Fitness: -0.6272\n",
      "Slot 1: [22, 21, 29, 28, 34]\n",
      "Slot 2: [15, 33, 32, 25, 9]\n",
      "Slot 3: [31, 5, 0, 7, 3]\n",
      "Slot 4: [14, 16, 8, 30, 20]\n",
      "Slot 5: [26, 24, 2, 11, 1]\n",
      "Slot 6: [6, 27, 23, 12, 4]\n",
      "Slot 7: [19, 18, 17, 10, 13]\n"
     ]
    }
   ],
   "source": [
    "pop = Population(30)\n",
    "print(pop)"
   ]
  },
  {
   "cell_type": "code",
   "execution_count": 8,
   "id": "d3f29bea",
   "metadata": {},
   "outputs": [
    {
     "data": {
      "text/plain": [
       "[Fitness: -0.5020\n",
       " Slot 1: [19, 20, 12, 15, 17]\n",
       " Slot 2: [8, 26, 13, 11, 21]\n",
       " Slot 3: [28, 33, 2, 0, 4]\n",
       " Slot 4: [7, 5, 31, 32, 18]\n",
       " Slot 5: [27, 25, 34, 22, 24]\n",
       " Slot 6: [6, 30, 3, 10, 9]\n",
       " Slot 7: [14, 1, 29, 23, 16],\n",
       " Fitness: -0.5151\n",
       " Slot 1: [30, 19, 24, 17, 26]\n",
       " Slot 2: [10, 14, 0, 8, 23]\n",
       " Slot 3: [16, 2, 22, 20, 31]\n",
       " Slot 4: [29, 15, 5, 18, 32]\n",
       " Slot 5: [12, 6, 1, 25, 7]\n",
       " Slot 6: [13, 11, 33, 27, 28]\n",
       " Slot 7: [9, 34, 4, 21, 3],\n",
       " Fitness: -0.5414\n",
       " Slot 1: [33, 0, 12, 32, 20]\n",
       " Slot 2: [7, 6, 28, 10, 1]\n",
       " Slot 3: [21, 15, 26, 19, 3]\n",
       " Slot 4: [5, 23, 8, 24, 30]\n",
       " Slot 5: [2, 9, 13, 18, 17]\n",
       " Slot 6: [25, 34, 22, 27, 16]\n",
       " Slot 7: [4, 29, 31, 14, 11],\n",
       " Fitness: -0.5460\n",
       " Slot 1: [14, 30, 5, 2, 1]\n",
       " Slot 2: [7, 20, 25, 9, 28]\n",
       " Slot 3: [23, 33, 13, 24, 17]\n",
       " Slot 4: [8, 10, 4, 32, 0]\n",
       " Slot 5: [18, 19, 31, 34, 27]\n",
       " Slot 6: [16, 6, 3, 21, 15]\n",
       " Slot 7: [22, 11, 29, 12, 26],\n",
       " Fitness: -0.5482\n",
       " Slot 1: [33, 24, 6, 27, 12]\n",
       " Slot 2: [29, 20, 16, 19, 18]\n",
       " Slot 3: [9, 32, 26, 5, 13]\n",
       " Slot 4: [17, 21, 30, 1, 25]\n",
       " Slot 5: [4, 7, 3, 11, 31]\n",
       " Slot 6: [23, 2, 28, 14, 15]\n",
       " Slot 7: [10, 0, 8, 34, 22],\n",
       " Fitness: -0.5516\n",
       " Slot 1: [9, 34, 8, 15, 20]\n",
       " Slot 2: [21, 2, 26, 10, 11]\n",
       " Slot 3: [32, 29, 23, 1, 24]\n",
       " Slot 4: [30, 19, 7, 27, 0]\n",
       " Slot 5: [16, 28, 25, 5, 18]\n",
       " Slot 6: [3, 4, 14, 17, 33]\n",
       " Slot 7: [12, 22, 13, 31, 6],\n",
       " Fitness: -0.5806\n",
       " Slot 1: [28, 29, 19, 34, 12]\n",
       " Slot 2: [9, 6, 14, 20, 15]\n",
       " Slot 3: [8, 10, 11, 3, 31]\n",
       " Slot 4: [2, 32, 21, 24, 23]\n",
       " Slot 5: [5, 0, 18, 25, 33]\n",
       " Slot 6: [26, 7, 30, 17, 16]\n",
       " Slot 7: [4, 13, 1, 27, 22],\n",
       " Fitness: -0.5838\n",
       " Slot 1: [6, 27, 29, 28, 1]\n",
       " Slot 2: [25, 17, 12, 3, 9]\n",
       " Slot 3: [19, 20, 14, 11, 32]\n",
       " Slot 4: [30, 24, 16, 8, 15]\n",
       " Slot 5: [21, 22, 0, 33, 13]\n",
       " Slot 6: [4, 18, 10, 5, 2]\n",
       " Slot 7: [31, 23, 26, 34, 7],\n",
       " Fitness: -0.5859\n",
       " Slot 1: [27, 5, 15, 34, 18]\n",
       " Slot 2: [22, 17, 4, 32, 26]\n",
       " Slot 3: [31, 3, 9, 2, 7]\n",
       " Slot 4: [14, 8, 16, 25, 23]\n",
       " Slot 5: [12, 19, 13, 11, 24]\n",
       " Slot 6: [6, 1, 20, 30, 29]\n",
       " Slot 7: [33, 21, 0, 10, 28],\n",
       " Fitness: -0.6089\n",
       " Slot 1: [34, 27, 25, 32, 18]\n",
       " Slot 2: [20, 3, 24, 8, 5]\n",
       " Slot 3: [29, 30, 2, 22, 4]\n",
       " Slot 4: [14, 13, 6, 19, 7]\n",
       " Slot 5: [26, 9, 21, 10, 31]\n",
       " Slot 6: [0, 28, 1, 15, 11]\n",
       " Slot 7: [17, 12, 23, 33, 16]]"
      ]
     },
     "execution_count": 8,
     "metadata": {},
     "output_type": "execute_result"
    }
   ],
   "source": [
    "pop.best_individuals(n=10)"
   ]
  },
  {
   "cell_type": "markdown",
   "id": "ce836d48",
   "metadata": {},
   "source": [
    "## Crossovers"
   ]
  },
  {
   "cell_type": "markdown",
   "id": "fd6616f5",
   "metadata": {},
   "source": [
    "### PMX Crossover"
   ]
  },
  {
   "cell_type": "code",
   "execution_count": 2,
   "id": "f0b3ad22",
   "metadata": {},
   "outputs": [
    {
     "name": "stdout",
     "output_type": "stream",
     "text": [
      "Parent 1:\n",
      "Fitness: -0.6186\n",
      "Slot 1: [24, 26, 4, 18, 28]\n",
      "Slot 2: [19, 0, 23, 3, 15]\n",
      "Slot 3: [29, 13, 14, 6, 27]\n",
      "Slot 4: [34, 33, 1, 16, 32]\n",
      "Slot 5: [2, 5, 8, 7, 30]\n",
      "Slot 6: [9, 17, 22, 25, 10]\n",
      "Slot 7: [20, 21, 31, 12, 11]\n",
      "Fitness: -0.6186390418236262\n",
      "\n",
      "Parent 2:\n",
      "Fitness: -0.6690\n",
      "Slot 1: [15, 33, 32, 17, 16]\n",
      "Slot 2: [1, 4, 22, 29, 8]\n",
      "Slot 3: [3, 24, 31, 0, 20]\n",
      "Slot 4: [11, 14, 26, 27, 18]\n",
      "Slot 5: [30, 6, 10, 13, 28]\n",
      "Slot 6: [23, 21, 19, 2, 7]\n",
      "Slot 7: [9, 25, 34, 12, 5]\n",
      "Fitness: -0.6689655172413792\n",
      "\n"
     ]
    }
   ],
   "source": [
    "parent1 = Individual()\n",
    "parent2 = Individual()\n",
    "\n",
    "print(\"Parent 1:\")\n",
    "print(parent1)\n",
    "print(\"Fitness:\", parent1.fitness())\n",
    "print()\n",
    "\n",
    "print(\"Parent 2:\")\n",
    "print(parent2)\n",
    "print(\"Fitness:\", parent2.fitness())\n",
    "print()"
   ]
  },
  {
   "cell_type": "code",
   "execution_count": 3,
   "id": "a18dc346",
   "metadata": {},
   "outputs": [
    {
     "name": "stdout",
     "output_type": "stream",
     "text": [
      "Offspring 1:\n",
      "Fitness: -0.5596\n",
      "Slot 1: [13, 26, 4, 18, 28]\n",
      "Slot 2: [19, 0, 22, 29, 8]\n",
      "Slot 3: [3, 24, 14, 6, 27]\n",
      "Slot 4: [34, 33, 1, 16, 32]\n",
      "Slot 5: [2, 5, 15, 7, 30]\n",
      "Slot 6: [9, 17, 23, 25, 10]\n",
      "Slot 7: [20, 21, 31, 12, 11]\n",
      "Fitness: -0.5595914227760069\n",
      "\n",
      "Offspring 2:\n",
      "Fitness: -0.7844\n",
      "Slot 1: [8, 33, 32, 17, 16]\n",
      "Slot 2: [1, 4, 23, 3, 15]\n",
      "Slot 3: [29, 13, 31, 0, 20]\n",
      "Slot 4: [11, 14, 26, 27, 18]\n",
      "Slot 5: [30, 6, 10, 24, 28]\n",
      "Slot 6: [22, 21, 19, 2, 7]\n",
      "Slot 7: [9, 25, 34, 12, 5]\n",
      "Fitness: -0.7844417077175697\n"
     ]
    }
   ],
   "source": [
    "offspring1, offspring2 = pmx_crossover(parent1, parent2)\n",
    "\n",
    "print(\"Offspring 1:\")\n",
    "print(offspring1)\n",
    "print(\"Fitness:\", offspring1.fitness())\n",
    "print()\n",
    "\n",
    "print(\"Offspring 2:\")\n",
    "print(offspring2)\n",
    "print(\"Fitness:\", offspring2.fitness())"
   ]
  },
  {
   "cell_type": "markdown",
   "id": "e594dbbf",
   "metadata": {},
   "source": [
    "### Eager Breeder Crossover"
   ]
  },
  {
   "cell_type": "code",
   "execution_count": 6,
   "id": "ddf72712",
   "metadata": {},
   "outputs": [
    {
     "name": "stdout",
     "output_type": "stream",
     "text": [
      "Parent 1:\n",
      "Fitness: -0.5186\n",
      "Slot 1: [14, 16, 5, 0, 32]\n",
      "Slot 2: [1, 23, 8, 2, 29]\n",
      "Slot 3: [13, 33, 18, 34, 10]\n",
      "Slot 4: [12, 11, 7, 9, 3]\n",
      "Slot 5: [6, 4, 31, 30, 17]\n",
      "Slot 6: [20, 27, 24, 22, 19]\n",
      "Slot 7: [28, 25, 21, 15, 26]\n",
      "Fitness: -0.5186144112817541\n",
      "\n",
      "Parent 2:\n",
      "Fitness: -0.6643\n",
      "Slot 1: [22, 17, 7, 12, 27]\n",
      "Slot 2: [30, 29, 3, 19, 24]\n",
      "Slot 3: [31, 6, 13, 2, 8]\n",
      "Slot 4: [25, 21, 15, 11, 28]\n",
      "Slot 5: [10, 32, 14, 34, 16]\n",
      "Slot 6: [0, 20, 23, 33, 9]\n",
      "Slot 7: [26, 5, 1, 4, 18]\n",
      "Fitness: -0.6642630155510482\n",
      "\n"
     ]
    }
   ],
   "source": [
    "parent1 = Individual()\n",
    "parent2 = Individual()\n",
    "\n",
    "print(\"Parent 1:\")\n",
    "print(parent1)\n",
    "print(\"Fitness:\", parent1.fitness())\n",
    "print()\n",
    "\n",
    "print(\"Parent 2:\")\n",
    "print(parent2)\n",
    "print(\"Fitness:\", parent2.fitness())\n",
    "print()"
   ]
  },
  {
   "cell_type": "code",
   "execution_count": 7,
   "id": "0460e31e",
   "metadata": {},
   "outputs": [
    {
     "name": "stdout",
     "output_type": "stream",
     "text": [
      "\n",
      "--- Top Slot Fitness Scores (Before Repair) ---\n",
      "Slot  1 | Fitness: 0.3100 | Artists: [10, 32, 14, 34, 16]\n",
      "Slot  2 | Fitness: 0.2450 | Artists: [12, 11, 7, 9, 3]\n",
      "Slot  3 | Fitness: 0.2325 | Artists: [20, 27, 24, 22, 19]\n",
      "Slot  4 | Fitness: 0.2225 | Artists: [6, 4, 31, 30, 17]\n",
      "Slot  5 | Fitness: 0.1725 | Artists: [25, 21, 15, 11, 28]\n",
      "Slot  6 | Fitness: 0.1675 | Artists: [14, 16, 5, 0, 32]\n",
      "Slot  7 | Fitness: 0.1600 | Artists: [28, 25, 21, 15, 26]\n",
      "------------------------------------------------\n",
      "\n",
      "Total artists expected: 35\n",
      "Duplicates detected: [28, 25, 21, 15, 14, 16, 32, 11]\n",
      "Missing artists: [1, 2, 33, 8, 13, 18, 23, 29]\n",
      "\n",
      "Replacing duplicate artist 28 in slot 0, stage 0 with missing artist 1\n",
      "Replacing duplicate artist 25 in slot 0, stage 1 with missing artist 2\n",
      "Replacing duplicate artist 21 in slot 0, stage 2 with missing artist 33\n",
      "Replacing duplicate artist 15 in slot 0, stage 3 with missing artist 8\n",
      "Replacing duplicate artist 14 in slot 1, stage 0 with missing artist 13\n",
      "Replacing duplicate artist 16 in slot 1, stage 1 with missing artist 18\n",
      "Replacing duplicate artist 32 in slot 1, stage 4 with missing artist 23\n",
      "Replacing duplicate artist 11 in slot 2, stage 3 with missing artist 29\n",
      "\n",
      "--- Final Offspring Representation ---\n",
      "Slot 1: [1, 2, 33, 8, 26]\n",
      "Slot 2: [13, 18, 5, 0, 23]\n",
      "Slot 3: [25, 21, 15, 29, 28]\n",
      "Slot 4: [6, 4, 31, 30, 17]\n",
      "Slot 5: [20, 27, 24, 22, 19]\n",
      "Slot 6: [12, 11, 7, 9, 3]\n",
      "Slot 7: [10, 32, 14, 34, 16]\n",
      "------------------------------------------------\n",
      "\n",
      "Offspring 1:\n",
      "Fitness: -0.5019\n",
      "Slot 1: [1, 2, 33, 8, 26]\n",
      "Slot 2: [13, 18, 5, 0, 23]\n",
      "Slot 3: [25, 21, 15, 29, 28]\n",
      "Slot 4: [6, 4, 31, 30, 17]\n",
      "Slot 5: [20, 27, 24, 22, 19]\n",
      "Slot 6: [12, 11, 7, 9, 3]\n",
      "Slot 7: [10, 32, 14, 34, 16]\n",
      "Fitness: -0.5019264947358254\n",
      "\n"
     ]
    }
   ],
   "source": [
    "offspring1, offspring2 = eager_breeder_crossover(parent1, parent2, verbose=True)\n",
    "\n",
    "print(\"Offspring 1:\")\n",
    "print(offspring1)\n",
    "print(\"Fitness:\", offspring1.fitness())\n",
    "print()"
   ]
  },
  {
   "cell_type": "code",
   "execution_count": null,
   "id": "bdcb0586",
   "metadata": {},
   "outputs": [],
   "source": []
  }
 ],
 "metadata": {
  "kernelspec": {
   "display_name": "Python 3",
   "language": "python",
   "name": "python3"
  },
  "language_info": {
   "codemirror_mode": {
    "name": "ipython",
    "version": 3
   },
   "file_extension": ".py",
   "mimetype": "text/x-python",
   "name": "python",
   "nbconvert_exporter": "python",
   "pygments_lexer": "ipython3",
   "version": "3.11.0"
  }
 },
 "nbformat": 4,
 "nbformat_minor": 5
}
