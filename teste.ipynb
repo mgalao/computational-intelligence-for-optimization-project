{
 "cells": [
  {
   "cell_type": "code",
   "execution_count": 1,
   "id": "027d3658",
   "metadata": {},
   "outputs": [
    {
     "name": "stderr",
     "output_type": "stream",
     "text": [
      "\n",
      "A module that was compiled using NumPy 1.x cannot be run in\n",
      "NumPy 2.0.2 as it may crash. To support both 1.x and 2.x\n",
      "versions of NumPy, modules must be compiled with NumPy 2.0.\n",
      "Some module may need to rebuild instead e.g. with 'pybind11>=2.12'.\n",
      "\n",
      "If you are a user of the module, the easiest solution will be to\n",
      "downgrade to 'numpy<2' or try to upgrade the affected module.\n",
      "We expect that some modules will need time to support NumPy 2.\n",
      "\n",
      "Traceback (most recent call last):  File \"<frozen runpy>\", line 198, in _run_module_as_main\n",
      "  File \"<frozen runpy>\", line 88, in _run_code\n",
      "  File \"/opt/anaconda3/lib/python3.12/site-packages/ipykernel_launcher.py\", line 18, in <module>\n",
      "    app.launch_new_instance()\n",
      "  File \"/opt/anaconda3/lib/python3.12/site-packages/traitlets/config/application.py\", line 1075, in launch_instance\n",
      "    app.start()\n",
      "  File \"/opt/anaconda3/lib/python3.12/site-packages/ipykernel/kernelapp.py\", line 739, in start\n",
      "    self.io_loop.start()\n",
      "  File \"/opt/anaconda3/lib/python3.12/site-packages/tornado/platform/asyncio.py\", line 205, in start\n",
      "    self.asyncio_loop.run_forever()\n",
      "  File \"/opt/anaconda3/lib/python3.12/asyncio/base_events.py\", line 641, in run_forever\n",
      "    self._run_once()\n",
      "  File \"/opt/anaconda3/lib/python3.12/asyncio/base_events.py\", line 1987, in _run_once\n",
      "    handle._run()\n",
      "  File \"/opt/anaconda3/lib/python3.12/asyncio/events.py\", line 88, in _run\n",
      "    self._context.run(self._callback, *self._args)\n",
      "  File \"/opt/anaconda3/lib/python3.12/site-packages/ipykernel/kernelbase.py\", line 545, in dispatch_queue\n",
      "    await self.process_one()\n",
      "  File \"/opt/anaconda3/lib/python3.12/site-packages/ipykernel/kernelbase.py\", line 534, in process_one\n",
      "    await dispatch(*args)\n",
      "  File \"/opt/anaconda3/lib/python3.12/site-packages/ipykernel/kernelbase.py\", line 437, in dispatch_shell\n",
      "    await result\n",
      "  File \"/opt/anaconda3/lib/python3.12/site-packages/ipykernel/ipkernel.py\", line 362, in execute_request\n",
      "    await super().execute_request(stream, ident, parent)\n",
      "  File \"/opt/anaconda3/lib/python3.12/site-packages/ipykernel/kernelbase.py\", line 778, in execute_request\n",
      "    reply_content = await reply_content\n",
      "  File \"/opt/anaconda3/lib/python3.12/site-packages/ipykernel/ipkernel.py\", line 449, in do_execute\n",
      "    res = shell.run_cell(\n",
      "  File \"/opt/anaconda3/lib/python3.12/site-packages/ipykernel/zmqshell.py\", line 549, in run_cell\n",
      "    return super().run_cell(*args, **kwargs)\n",
      "  File \"/opt/anaconda3/lib/python3.12/site-packages/IPython/core/interactiveshell.py\", line 3077, in run_cell\n",
      "    result = self._run_cell(\n",
      "  File \"/opt/anaconda3/lib/python3.12/site-packages/IPython/core/interactiveshell.py\", line 3132, in _run_cell\n",
      "    result = runner(coro)\n",
      "  File \"/opt/anaconda3/lib/python3.12/site-packages/IPython/core/async_helpers.py\", line 128, in _pseudo_sync_runner\n",
      "    coro.send(None)\n",
      "  File \"/opt/anaconda3/lib/python3.12/site-packages/IPython/core/interactiveshell.py\", line 3336, in run_cell_async\n",
      "    has_raised = await self.run_ast_nodes(code_ast.body, cell_name,\n",
      "  File \"/opt/anaconda3/lib/python3.12/site-packages/IPython/core/interactiveshell.py\", line 3519, in run_ast_nodes\n",
      "    if await self.run_code(code, result, async_=asy):\n",
      "  File \"/opt/anaconda3/lib/python3.12/site-packages/IPython/core/interactiveshell.py\", line 3579, in run_code\n",
      "    exec(code_obj, self.user_global_ns, self.user_ns)\n",
      "  File \"/var/folders/19/rxl10lh147s73036f239kkmm0000gn/T/ipykernel_96244/1535557043.py\", line 1, in <module>\n",
      "    from evolution.entities import *\n",
      "  File \"/Users/mgalao/Library/CloudStorage/OneDrive-NOVAIMS/MSc_DSAA-DS/2nd Semester/Computational Intelligence for Optimization/computational-intelligence-for-optimization-project/evolution/entities.py\", line 11, in <module>\n",
      "    from data.import_data import artists, conflicts_matrix\n",
      "  File \"/Users/mgalao/Library/CloudStorage/OneDrive-NOVAIMS/MSc_DSAA-DS/2nd Semester/Computational Intelligence for Optimization/computational-intelligence-for-optimization-project/data/import_data.py\", line 7, in <module>\n",
      "    import pandas as pd\n",
      "  File \"/opt/anaconda3/lib/python3.12/site-packages/pandas/__init__.py\", line 26, in <module>\n",
      "    from pandas.compat import (\n",
      "  File \"/opt/anaconda3/lib/python3.12/site-packages/pandas/compat/__init__.py\", line 27, in <module>\n",
      "    from pandas.compat.pyarrow import (\n",
      "  File \"/opt/anaconda3/lib/python3.12/site-packages/pandas/compat/pyarrow.py\", line 8, in <module>\n",
      "    import pyarrow as pa\n",
      "  File \"/opt/anaconda3/lib/python3.12/site-packages/pyarrow/__init__.py\", line 65, in <module>\n",
      "    import pyarrow.lib as _lib\n"
     ]
    },
    {
     "ename": "ImportError",
     "evalue": "\nA module that was compiled using NumPy 1.x cannot be run in\nNumPy 2.0.2 as it may crash. To support both 1.x and 2.x\nversions of NumPy, modules must be compiled with NumPy 2.0.\nSome module may need to rebuild instead e.g. with 'pybind11>=2.12'.\n\nIf you are a user of the module, the easiest solution will be to\ndowngrade to 'numpy<2' or try to upgrade the affected module.\nWe expect that some modules will need time to support NumPy 2.\n\n",
     "output_type": "error",
     "traceback": [
      "\u001b[0;31m---------------------------------------------------------------------------\u001b[0m",
      "\u001b[0;31mImportError\u001b[0m                               Traceback (most recent call last)",
      "File \u001b[0;32m/opt/anaconda3/lib/python3.12/site-packages/numpy/core/_multiarray_umath.py:44\u001b[0m, in \u001b[0;36m__getattr__\u001b[0;34m(attr_name)\u001b[0m\n\u001b[1;32m     39\u001b[0m     \u001b[38;5;66;03m# Also print the message (with traceback).  This is because old versions\u001b[39;00m\n\u001b[1;32m     40\u001b[0m     \u001b[38;5;66;03m# of NumPy unfortunately set up the import to replace (and hide) the\u001b[39;00m\n\u001b[1;32m     41\u001b[0m     \u001b[38;5;66;03m# error.  The traceback shouldn't be needed, but e.g. pytest plugins\u001b[39;00m\n\u001b[1;32m     42\u001b[0m     \u001b[38;5;66;03m# seem to swallow it and we should be failing anyway...\u001b[39;00m\n\u001b[1;32m     43\u001b[0m     sys\u001b[38;5;241m.\u001b[39mstderr\u001b[38;5;241m.\u001b[39mwrite(msg \u001b[38;5;241m+\u001b[39m tb_msg)\n\u001b[0;32m---> 44\u001b[0m     \u001b[38;5;28;01mraise\u001b[39;00m \u001b[38;5;167;01mImportError\u001b[39;00m(msg)\n\u001b[1;32m     46\u001b[0m ret \u001b[38;5;241m=\u001b[39m \u001b[38;5;28mgetattr\u001b[39m(_multiarray_umath, attr_name, \u001b[38;5;28;01mNone\u001b[39;00m)\n\u001b[1;32m     47\u001b[0m \u001b[38;5;28;01mif\u001b[39;00m ret \u001b[38;5;129;01mis\u001b[39;00m \u001b[38;5;28;01mNone\u001b[39;00m:\n",
      "\u001b[0;31mImportError\u001b[0m: \nA module that was compiled using NumPy 1.x cannot be run in\nNumPy 2.0.2 as it may crash. To support both 1.x and 2.x\nversions of NumPy, modules must be compiled with NumPy 2.0.\nSome module may need to rebuild instead e.g. with 'pybind11>=2.12'.\n\nIf you are a user of the module, the easiest solution will be to\ndowngrade to 'numpy<2' or try to upgrade the affected module.\nWe expect that some modules will need time to support NumPy 2.\n\n"
     ]
    },
    {
     "name": "stderr",
     "output_type": "stream",
     "text": [
      "\n",
      "A module that was compiled using NumPy 1.x cannot be run in\n",
      "NumPy 2.0.2 as it may crash. To support both 1.x and 2.x\n",
      "versions of NumPy, modules must be compiled with NumPy 2.0.\n",
      "Some module may need to rebuild instead e.g. with 'pybind11>=2.12'.\n",
      "\n",
      "If you are a user of the module, the easiest solution will be to\n",
      "downgrade to 'numpy<2' or try to upgrade the affected module.\n",
      "We expect that some modules will need time to support NumPy 2.\n",
      "\n",
      "Traceback (most recent call last):  File \"<frozen runpy>\", line 198, in _run_module_as_main\n",
      "  File \"<frozen runpy>\", line 88, in _run_code\n",
      "  File \"/opt/anaconda3/lib/python3.12/site-packages/ipykernel_launcher.py\", line 18, in <module>\n",
      "    app.launch_new_instance()\n",
      "  File \"/opt/anaconda3/lib/python3.12/site-packages/traitlets/config/application.py\", line 1075, in launch_instance\n",
      "    app.start()\n",
      "  File \"/opt/anaconda3/lib/python3.12/site-packages/ipykernel/kernelapp.py\", line 739, in start\n",
      "    self.io_loop.start()\n",
      "  File \"/opt/anaconda3/lib/python3.12/site-packages/tornado/platform/asyncio.py\", line 205, in start\n",
      "    self.asyncio_loop.run_forever()\n",
      "  File \"/opt/anaconda3/lib/python3.12/asyncio/base_events.py\", line 641, in run_forever\n",
      "    self._run_once()\n",
      "  File \"/opt/anaconda3/lib/python3.12/asyncio/base_events.py\", line 1987, in _run_once\n",
      "    handle._run()\n",
      "  File \"/opt/anaconda3/lib/python3.12/asyncio/events.py\", line 88, in _run\n",
      "    self._context.run(self._callback, *self._args)\n",
      "  File \"/opt/anaconda3/lib/python3.12/site-packages/ipykernel/kernelbase.py\", line 545, in dispatch_queue\n",
      "    await self.process_one()\n",
      "  File \"/opt/anaconda3/lib/python3.12/site-packages/ipykernel/kernelbase.py\", line 534, in process_one\n",
      "    await dispatch(*args)\n",
      "  File \"/opt/anaconda3/lib/python3.12/site-packages/ipykernel/kernelbase.py\", line 437, in dispatch_shell\n",
      "    await result\n",
      "  File \"/opt/anaconda3/lib/python3.12/site-packages/ipykernel/ipkernel.py\", line 362, in execute_request\n",
      "    await super().execute_request(stream, ident, parent)\n",
      "  File \"/opt/anaconda3/lib/python3.12/site-packages/ipykernel/kernelbase.py\", line 778, in execute_request\n",
      "    reply_content = await reply_content\n",
      "  File \"/opt/anaconda3/lib/python3.12/site-packages/ipykernel/ipkernel.py\", line 449, in do_execute\n",
      "    res = shell.run_cell(\n",
      "  File \"/opt/anaconda3/lib/python3.12/site-packages/ipykernel/zmqshell.py\", line 549, in run_cell\n",
      "    return super().run_cell(*args, **kwargs)\n",
      "  File \"/opt/anaconda3/lib/python3.12/site-packages/IPython/core/interactiveshell.py\", line 3077, in run_cell\n",
      "    result = self._run_cell(\n",
      "  File \"/opt/anaconda3/lib/python3.12/site-packages/IPython/core/interactiveshell.py\", line 3132, in _run_cell\n",
      "    result = runner(coro)\n",
      "  File \"/opt/anaconda3/lib/python3.12/site-packages/IPython/core/async_helpers.py\", line 128, in _pseudo_sync_runner\n",
      "    coro.send(None)\n",
      "  File \"/opt/anaconda3/lib/python3.12/site-packages/IPython/core/interactiveshell.py\", line 3336, in run_cell_async\n",
      "    has_raised = await self.run_ast_nodes(code_ast.body, cell_name,\n",
      "  File \"/opt/anaconda3/lib/python3.12/site-packages/IPython/core/interactiveshell.py\", line 3519, in run_ast_nodes\n",
      "    if await self.run_code(code, result, async_=asy):\n",
      "  File \"/opt/anaconda3/lib/python3.12/site-packages/IPython/core/interactiveshell.py\", line 3579, in run_code\n",
      "    exec(code_obj, self.user_global_ns, self.user_ns)\n",
      "  File \"/var/folders/19/rxl10lh147s73036f239kkmm0000gn/T/ipykernel_96244/1535557043.py\", line 1, in <module>\n",
      "    from evolution.entities import *\n",
      "  File \"/Users/mgalao/Library/CloudStorage/OneDrive-NOVAIMS/MSc_DSAA-DS/2nd Semester/Computational Intelligence for Optimization/computational-intelligence-for-optimization-project/evolution/entities.py\", line 11, in <module>\n",
      "    from data.import_data import artists, conflicts_matrix\n",
      "  File \"/Users/mgalao/Library/CloudStorage/OneDrive-NOVAIMS/MSc_DSAA-DS/2nd Semester/Computational Intelligence for Optimization/computational-intelligence-for-optimization-project/data/import_data.py\", line 7, in <module>\n",
      "    import pandas as pd\n",
      "  File \"/opt/anaconda3/lib/python3.12/site-packages/pandas/__init__.py\", line 49, in <module>\n",
      "    from pandas.core.api import (\n",
      "  File \"/opt/anaconda3/lib/python3.12/site-packages/pandas/core/api.py\", line 9, in <module>\n",
      "    from pandas.core.dtypes.dtypes import (\n",
      "  File \"/opt/anaconda3/lib/python3.12/site-packages/pandas/core/dtypes/dtypes.py\", line 24, in <module>\n",
      "    from pandas._libs import (\n",
      "  File \"/opt/anaconda3/lib/python3.12/site-packages/pyarrow/__init__.py\", line 65, in <module>\n",
      "    import pyarrow.lib as _lib\n"
     ]
    },
    {
     "ename": "ImportError",
     "evalue": "\nA module that was compiled using NumPy 1.x cannot be run in\nNumPy 2.0.2 as it may crash. To support both 1.x and 2.x\nversions of NumPy, modules must be compiled with NumPy 2.0.\nSome module may need to rebuild instead e.g. with 'pybind11>=2.12'.\n\nIf you are a user of the module, the easiest solution will be to\ndowngrade to 'numpy<2' or try to upgrade the affected module.\nWe expect that some modules will need time to support NumPy 2.\n\n",
     "output_type": "error",
     "traceback": [
      "\u001b[0;31m---------------------------------------------------------------------------\u001b[0m",
      "\u001b[0;31mImportError\u001b[0m                               Traceback (most recent call last)",
      "File \u001b[0;32m/opt/anaconda3/lib/python3.12/site-packages/numpy/core/_multiarray_umath.py:44\u001b[0m, in \u001b[0;36m__getattr__\u001b[0;34m(attr_name)\u001b[0m\n\u001b[1;32m     39\u001b[0m     \u001b[38;5;66;03m# Also print the message (with traceback).  This is because old versions\u001b[39;00m\n\u001b[1;32m     40\u001b[0m     \u001b[38;5;66;03m# of NumPy unfortunately set up the import to replace (and hide) the\u001b[39;00m\n\u001b[1;32m     41\u001b[0m     \u001b[38;5;66;03m# error.  The traceback shouldn't be needed, but e.g. pytest plugins\u001b[39;00m\n\u001b[1;32m     42\u001b[0m     \u001b[38;5;66;03m# seem to swallow it and we should be failing anyway...\u001b[39;00m\n\u001b[1;32m     43\u001b[0m     sys\u001b[38;5;241m.\u001b[39mstderr\u001b[38;5;241m.\u001b[39mwrite(msg \u001b[38;5;241m+\u001b[39m tb_msg)\n\u001b[0;32m---> 44\u001b[0m     \u001b[38;5;28;01mraise\u001b[39;00m \u001b[38;5;167;01mImportError\u001b[39;00m(msg)\n\u001b[1;32m     46\u001b[0m ret \u001b[38;5;241m=\u001b[39m \u001b[38;5;28mgetattr\u001b[39m(_multiarray_umath, attr_name, \u001b[38;5;28;01mNone\u001b[39;00m)\n\u001b[1;32m     47\u001b[0m \u001b[38;5;28;01mif\u001b[39;00m ret \u001b[38;5;129;01mis\u001b[39;00m \u001b[38;5;28;01mNone\u001b[39;00m:\n",
      "\u001b[0;31mImportError\u001b[0m: \nA module that was compiled using NumPy 1.x cannot be run in\nNumPy 2.0.2 as it may crash. To support both 1.x and 2.x\nversions of NumPy, modules must be compiled with NumPy 2.0.\nSome module may need to rebuild instead e.g. with 'pybind11>=2.12'.\n\nIf you are a user of the module, the easiest solution will be to\ndowngrade to 'numpy<2' or try to upgrade the affected module.\nWe expect that some modules will need time to support NumPy 2.\n\n"
     ]
    },
    {
     "name": "stderr",
     "output_type": "stream",
     "text": [
      "\n",
      "A module that was compiled using NumPy 1.x cannot be run in\n",
      "NumPy 2.0.2 as it may crash. To support both 1.x and 2.x\n",
      "versions of NumPy, modules must be compiled with NumPy 2.0.\n",
      "Some module may need to rebuild instead e.g. with 'pybind11>=2.12'.\n",
      "\n",
      "If you are a user of the module, the easiest solution will be to\n",
      "downgrade to 'numpy<2' or try to upgrade the affected module.\n",
      "We expect that some modules will need time to support NumPy 2.\n",
      "\n",
      "Traceback (most recent call last):  File \"<frozen runpy>\", line 198, in _run_module_as_main\n",
      "  File \"<frozen runpy>\", line 88, in _run_code\n",
      "  File \"/opt/anaconda3/lib/python3.12/site-packages/ipykernel_launcher.py\", line 18, in <module>\n",
      "    app.launch_new_instance()\n",
      "  File \"/opt/anaconda3/lib/python3.12/site-packages/traitlets/config/application.py\", line 1075, in launch_instance\n",
      "    app.start()\n",
      "  File \"/opt/anaconda3/lib/python3.12/site-packages/ipykernel/kernelapp.py\", line 739, in start\n",
      "    self.io_loop.start()\n",
      "  File \"/opt/anaconda3/lib/python3.12/site-packages/tornado/platform/asyncio.py\", line 205, in start\n",
      "    self.asyncio_loop.run_forever()\n",
      "  File \"/opt/anaconda3/lib/python3.12/asyncio/base_events.py\", line 641, in run_forever\n",
      "    self._run_once()\n",
      "  File \"/opt/anaconda3/lib/python3.12/asyncio/base_events.py\", line 1987, in _run_once\n",
      "    handle._run()\n",
      "  File \"/opt/anaconda3/lib/python3.12/asyncio/events.py\", line 88, in _run\n",
      "    self._context.run(self._callback, *self._args)\n",
      "  File \"/opt/anaconda3/lib/python3.12/site-packages/ipykernel/kernelbase.py\", line 545, in dispatch_queue\n",
      "    await self.process_one()\n",
      "  File \"/opt/anaconda3/lib/python3.12/site-packages/ipykernel/kernelbase.py\", line 534, in process_one\n",
      "    await dispatch(*args)\n",
      "  File \"/opt/anaconda3/lib/python3.12/site-packages/ipykernel/kernelbase.py\", line 437, in dispatch_shell\n",
      "    await result\n",
      "  File \"/opt/anaconda3/lib/python3.12/site-packages/ipykernel/ipkernel.py\", line 362, in execute_request\n",
      "    await super().execute_request(stream, ident, parent)\n",
      "  File \"/opt/anaconda3/lib/python3.12/site-packages/ipykernel/kernelbase.py\", line 778, in execute_request\n",
      "    reply_content = await reply_content\n",
      "  File \"/opt/anaconda3/lib/python3.12/site-packages/ipykernel/ipkernel.py\", line 449, in do_execute\n",
      "    res = shell.run_cell(\n",
      "  File \"/opt/anaconda3/lib/python3.12/site-packages/ipykernel/zmqshell.py\", line 549, in run_cell\n",
      "    return super().run_cell(*args, **kwargs)\n",
      "  File \"/opt/anaconda3/lib/python3.12/site-packages/IPython/core/interactiveshell.py\", line 3077, in run_cell\n",
      "    result = self._run_cell(\n",
      "  File \"/opt/anaconda3/lib/python3.12/site-packages/IPython/core/interactiveshell.py\", line 3132, in _run_cell\n",
      "    result = runner(coro)\n",
      "  File \"/opt/anaconda3/lib/python3.12/site-packages/IPython/core/async_helpers.py\", line 128, in _pseudo_sync_runner\n",
      "    coro.send(None)\n",
      "  File \"/opt/anaconda3/lib/python3.12/site-packages/IPython/core/interactiveshell.py\", line 3336, in run_cell_async\n",
      "    has_raised = await self.run_ast_nodes(code_ast.body, cell_name,\n",
      "  File \"/opt/anaconda3/lib/python3.12/site-packages/IPython/core/interactiveshell.py\", line 3519, in run_ast_nodes\n",
      "    if await self.run_code(code, result, async_=asy):\n",
      "  File \"/opt/anaconda3/lib/python3.12/site-packages/IPython/core/interactiveshell.py\", line 3579, in run_code\n",
      "    exec(code_obj, self.user_global_ns, self.user_ns)\n",
      "  File \"/var/folders/19/rxl10lh147s73036f239kkmm0000gn/T/ipykernel_96244/1535557043.py\", line 1, in <module>\n",
      "    from evolution.entities import *\n",
      "  File \"/Users/mgalao/Library/CloudStorage/OneDrive-NOVAIMS/MSc_DSAA-DS/2nd Semester/Computational Intelligence for Optimization/computational-intelligence-for-optimization-project/evolution/entities.py\", line 11, in <module>\n",
      "    from data.import_data import artists, conflicts_matrix\n",
      "  File \"/Users/mgalao/Library/CloudStorage/OneDrive-NOVAIMS/MSc_DSAA-DS/2nd Semester/Computational Intelligence for Optimization/computational-intelligence-for-optimization-project/data/import_data.py\", line 7, in <module>\n",
      "    import pandas as pd\n",
      "  File \"/opt/anaconda3/lib/python3.12/site-packages/pandas/__init__.py\", line 49, in <module>\n",
      "    from pandas.core.api import (\n",
      "  File \"/opt/anaconda3/lib/python3.12/site-packages/pandas/core/api.py\", line 28, in <module>\n",
      "    from pandas.core.arrays import Categorical\n",
      "  File \"/opt/anaconda3/lib/python3.12/site-packages/pandas/core/arrays/__init__.py\", line 1, in <module>\n",
      "    from pandas.core.arrays.arrow import ArrowExtensionArray\n",
      "  File \"/opt/anaconda3/lib/python3.12/site-packages/pandas/core/arrays/arrow/__init__.py\", line 5, in <module>\n",
      "    from pandas.core.arrays.arrow.array import ArrowExtensionArray\n",
      "  File \"/opt/anaconda3/lib/python3.12/site-packages/pandas/core/arrays/arrow/array.py\", line 50, in <module>\n",
      "    from pandas.core import (\n",
      "  File \"/opt/anaconda3/lib/python3.12/site-packages/pandas/core/ops/__init__.py\", line 8, in <module>\n",
      "    from pandas.core.ops.array_ops import (\n",
      "  File \"/opt/anaconda3/lib/python3.12/site-packages/pandas/core/ops/array_ops.py\", line 56, in <module>\n",
      "    from pandas.core.computation import expressions\n",
      "  File \"/opt/anaconda3/lib/python3.12/site-packages/pandas/core/computation/expressions.py\", line 21, in <module>\n",
      "    from pandas.core.computation.check import NUMEXPR_INSTALLED\n",
      "  File \"/opt/anaconda3/lib/python3.12/site-packages/pandas/core/computation/check.py\", line 5, in <module>\n",
      "    ne = import_optional_dependency(\"numexpr\", errors=\"warn\")\n",
      "  File \"/opt/anaconda3/lib/python3.12/site-packages/pandas/compat/_optional.py\", line 135, in import_optional_dependency\n",
      "    module = importlib.import_module(name)\n",
      "  File \"/opt/anaconda3/lib/python3.12/importlib/__init__.py\", line 90, in import_module\n",
      "    return _bootstrap._gcd_import(name[level:], package, level)\n",
      "  File \"/opt/anaconda3/lib/python3.12/site-packages/numexpr/__init__.py\", line 24, in <module>\n",
      "    from numexpr.interpreter import MAX_THREADS, use_vml, __BLOCK_SIZE1__\n"
     ]
    },
    {
     "ename": "AttributeError",
     "evalue": "_ARRAY_API not found",
     "output_type": "error",
     "traceback": [
      "\u001b[0;31m---------------------------------------------------------------------------\u001b[0m",
      "\u001b[0;31mAttributeError\u001b[0m                            Traceback (most recent call last)",
      "\u001b[0;31mAttributeError\u001b[0m: _ARRAY_API not found"
     ]
    },
    {
     "name": "stderr",
     "output_type": "stream",
     "text": [
      "\n",
      "A module that was compiled using NumPy 1.x cannot be run in\n",
      "NumPy 2.0.2 as it may crash. To support both 1.x and 2.x\n",
      "versions of NumPy, modules must be compiled with NumPy 2.0.\n",
      "Some module may need to rebuild instead e.g. with 'pybind11>=2.12'.\n",
      "\n",
      "If you are a user of the module, the easiest solution will be to\n",
      "downgrade to 'numpy<2' or try to upgrade the affected module.\n",
      "We expect that some modules will need time to support NumPy 2.\n",
      "\n",
      "Traceback (most recent call last):  File \"<frozen runpy>\", line 198, in _run_module_as_main\n",
      "  File \"<frozen runpy>\", line 88, in _run_code\n",
      "  File \"/opt/anaconda3/lib/python3.12/site-packages/ipykernel_launcher.py\", line 18, in <module>\n",
      "    app.launch_new_instance()\n",
      "  File \"/opt/anaconda3/lib/python3.12/site-packages/traitlets/config/application.py\", line 1075, in launch_instance\n",
      "    app.start()\n",
      "  File \"/opt/anaconda3/lib/python3.12/site-packages/ipykernel/kernelapp.py\", line 739, in start\n",
      "    self.io_loop.start()\n",
      "  File \"/opt/anaconda3/lib/python3.12/site-packages/tornado/platform/asyncio.py\", line 205, in start\n",
      "    self.asyncio_loop.run_forever()\n",
      "  File \"/opt/anaconda3/lib/python3.12/asyncio/base_events.py\", line 641, in run_forever\n",
      "    self._run_once()\n",
      "  File \"/opt/anaconda3/lib/python3.12/asyncio/base_events.py\", line 1987, in _run_once\n",
      "    handle._run()\n",
      "  File \"/opt/anaconda3/lib/python3.12/asyncio/events.py\", line 88, in _run\n",
      "    self._context.run(self._callback, *self._args)\n",
      "  File \"/opt/anaconda3/lib/python3.12/site-packages/ipykernel/kernelbase.py\", line 545, in dispatch_queue\n",
      "    await self.process_one()\n",
      "  File \"/opt/anaconda3/lib/python3.12/site-packages/ipykernel/kernelbase.py\", line 534, in process_one\n",
      "    await dispatch(*args)\n",
      "  File \"/opt/anaconda3/lib/python3.12/site-packages/ipykernel/kernelbase.py\", line 437, in dispatch_shell\n",
      "    await result\n",
      "  File \"/opt/anaconda3/lib/python3.12/site-packages/ipykernel/ipkernel.py\", line 362, in execute_request\n",
      "    await super().execute_request(stream, ident, parent)\n",
      "  File \"/opt/anaconda3/lib/python3.12/site-packages/ipykernel/kernelbase.py\", line 778, in execute_request\n",
      "    reply_content = await reply_content\n",
      "  File \"/opt/anaconda3/lib/python3.12/site-packages/ipykernel/ipkernel.py\", line 449, in do_execute\n",
      "    res = shell.run_cell(\n",
      "  File \"/opt/anaconda3/lib/python3.12/site-packages/ipykernel/zmqshell.py\", line 549, in run_cell\n",
      "    return super().run_cell(*args, **kwargs)\n",
      "  File \"/opt/anaconda3/lib/python3.12/site-packages/IPython/core/interactiveshell.py\", line 3077, in run_cell\n",
      "    result = self._run_cell(\n",
      "  File \"/opt/anaconda3/lib/python3.12/site-packages/IPython/core/interactiveshell.py\", line 3132, in _run_cell\n",
      "    result = runner(coro)\n",
      "  File \"/opt/anaconda3/lib/python3.12/site-packages/IPython/core/async_helpers.py\", line 128, in _pseudo_sync_runner\n",
      "    coro.send(None)\n",
      "  File \"/opt/anaconda3/lib/python3.12/site-packages/IPython/core/interactiveshell.py\", line 3336, in run_cell_async\n",
      "    has_raised = await self.run_ast_nodes(code_ast.body, cell_name,\n",
      "  File \"/opt/anaconda3/lib/python3.12/site-packages/IPython/core/interactiveshell.py\", line 3519, in run_ast_nodes\n",
      "    if await self.run_code(code, result, async_=asy):\n",
      "  File \"/opt/anaconda3/lib/python3.12/site-packages/IPython/core/interactiveshell.py\", line 3579, in run_code\n",
      "    exec(code_obj, self.user_global_ns, self.user_ns)\n",
      "  File \"/var/folders/19/rxl10lh147s73036f239kkmm0000gn/T/ipykernel_96244/1535557043.py\", line 1, in <module>\n",
      "    from evolution.entities import *\n",
      "  File \"/Users/mgalao/Library/CloudStorage/OneDrive-NOVAIMS/MSc_DSAA-DS/2nd Semester/Computational Intelligence for Optimization/computational-intelligence-for-optimization-project/evolution/entities.py\", line 11, in <module>\n",
      "    from data.import_data import artists, conflicts_matrix\n",
      "  File \"/Users/mgalao/Library/CloudStorage/OneDrive-NOVAIMS/MSc_DSAA-DS/2nd Semester/Computational Intelligence for Optimization/computational-intelligence-for-optimization-project/data/import_data.py\", line 7, in <module>\n",
      "    import pandas as pd\n",
      "  File \"/opt/anaconda3/lib/python3.12/site-packages/pandas/__init__.py\", line 49, in <module>\n",
      "    from pandas.core.api import (\n",
      "  File \"/opt/anaconda3/lib/python3.12/site-packages/pandas/core/api.py\", line 28, in <module>\n",
      "    from pandas.core.arrays import Categorical\n",
      "  File \"/opt/anaconda3/lib/python3.12/site-packages/pandas/core/arrays/__init__.py\", line 1, in <module>\n",
      "    from pandas.core.arrays.arrow import ArrowExtensionArray\n",
      "  File \"/opt/anaconda3/lib/python3.12/site-packages/pandas/core/arrays/arrow/__init__.py\", line 5, in <module>\n",
      "    from pandas.core.arrays.arrow.array import ArrowExtensionArray\n",
      "  File \"/opt/anaconda3/lib/python3.12/site-packages/pandas/core/arrays/arrow/array.py\", line 64, in <module>\n",
      "    from pandas.core.arrays.masked import BaseMaskedArray\n",
      "  File \"/opt/anaconda3/lib/python3.12/site-packages/pandas/core/arrays/masked.py\", line 60, in <module>\n",
      "    from pandas.core import (\n",
      "  File \"/opt/anaconda3/lib/python3.12/site-packages/pandas/core/nanops.py\", line 52, in <module>\n",
      "    bn = import_optional_dependency(\"bottleneck\", errors=\"warn\")\n",
      "  File \"/opt/anaconda3/lib/python3.12/site-packages/pandas/compat/_optional.py\", line 135, in import_optional_dependency\n",
      "    module = importlib.import_module(name)\n",
      "  File \"/opt/anaconda3/lib/python3.12/importlib/__init__.py\", line 90, in import_module\n",
      "    return _bootstrap._gcd_import(name[level:], package, level)\n",
      "  File \"/opt/anaconda3/lib/python3.12/site-packages/bottleneck/__init__.py\", line 7, in <module>\n",
      "    from .move import (move_argmax, move_argmin, move_max, move_mean, move_median,\n"
     ]
    },
    {
     "ename": "ImportError",
     "evalue": "\nA module that was compiled using NumPy 1.x cannot be run in\nNumPy 2.0.2 as it may crash. To support both 1.x and 2.x\nversions of NumPy, modules must be compiled with NumPy 2.0.\nSome module may need to rebuild instead e.g. with 'pybind11>=2.12'.\n\nIf you are a user of the module, the easiest solution will be to\ndowngrade to 'numpy<2' or try to upgrade the affected module.\nWe expect that some modules will need time to support NumPy 2.\n\n",
     "output_type": "error",
     "traceback": [
      "\u001b[0;31m---------------------------------------------------------------------------\u001b[0m",
      "\u001b[0;31mImportError\u001b[0m                               Traceback (most recent call last)",
      "File \u001b[0;32m/opt/anaconda3/lib/python3.12/site-packages/numpy/core/_multiarray_umath.py:44\u001b[0m, in \u001b[0;36m__getattr__\u001b[0;34m(attr_name)\u001b[0m\n\u001b[1;32m     39\u001b[0m     \u001b[38;5;66;03m# Also print the message (with traceback).  This is because old versions\u001b[39;00m\n\u001b[1;32m     40\u001b[0m     \u001b[38;5;66;03m# of NumPy unfortunately set up the import to replace (and hide) the\u001b[39;00m\n\u001b[1;32m     41\u001b[0m     \u001b[38;5;66;03m# error.  The traceback shouldn't be needed, but e.g. pytest plugins\u001b[39;00m\n\u001b[1;32m     42\u001b[0m     \u001b[38;5;66;03m# seem to swallow it and we should be failing anyway...\u001b[39;00m\n\u001b[1;32m     43\u001b[0m     sys\u001b[38;5;241m.\u001b[39mstderr\u001b[38;5;241m.\u001b[39mwrite(msg \u001b[38;5;241m+\u001b[39m tb_msg)\n\u001b[0;32m---> 44\u001b[0m     \u001b[38;5;28;01mraise\u001b[39;00m \u001b[38;5;167;01mImportError\u001b[39;00m(msg)\n\u001b[1;32m     46\u001b[0m ret \u001b[38;5;241m=\u001b[39m \u001b[38;5;28mgetattr\u001b[39m(_multiarray_umath, attr_name, \u001b[38;5;28;01mNone\u001b[39;00m)\n\u001b[1;32m     47\u001b[0m \u001b[38;5;28;01mif\u001b[39;00m ret \u001b[38;5;129;01mis\u001b[39;00m \u001b[38;5;28;01mNone\u001b[39;00m:\n",
      "\u001b[0;31mImportError\u001b[0m: \nA module that was compiled using NumPy 1.x cannot be run in\nNumPy 2.0.2 as it may crash. To support both 1.x and 2.x\nversions of NumPy, modules must be compiled with NumPy 2.0.\nSome module may need to rebuild instead e.g. with 'pybind11>=2.12'.\n\nIf you are a user of the module, the easiest solution will be to\ndowngrade to 'numpy<2' or try to upgrade the affected module.\nWe expect that some modules will need time to support NumPy 2.\n\n"
     ]
    }
   ],
   "source": [
    "from evolution.entities import *\n",
    "from evolution.crossover import *\n",
    "from evolution.mutation import *"
   ]
  },
  {
   "cell_type": "code",
   "execution_count": 2,
   "id": "8df93867",
   "metadata": {},
   "outputs": [
    {
     "name": "stdout",
     "output_type": "stream",
     "text": [
      "(35, 35)\n"
     ]
    }
   ],
   "source": [
    "print(conflicts_matrix.shape)  # deve dar (35, 35)"
   ]
  },
  {
   "cell_type": "code",
   "execution_count": 3,
   "id": "05df8e09",
   "metadata": {},
   "outputs": [
    {
     "name": "stdout",
     "output_type": "stream",
     "text": [
      "0.2\n"
     ]
    }
   ],
   "source": [
    "print(conflicts_matrix[0][34])"
   ]
  },
  {
   "cell_type": "code",
   "execution_count": 4,
   "id": "4c75deb6",
   "metadata": {},
   "outputs": [
    {
     "name": "stdout",
     "output_type": "stream",
     "text": [
      "Fitness: 0.3311\n",
      "Slot 1: [30, 8, 20, 10, 12]\n",
      "Slot 2: [19, 25, 23, 28, 31]\n",
      "Slot 3: [6, 13, 5, 9, 3]\n",
      "Slot 4: [27, 33, 11, 22, 17]\n",
      "Slot 5: [2, 18, 32, 1, 7]\n",
      "Slot 6: [24, 4, 34, 14, 21]\n",
      "Slot 7: [26, 16, 15, 0, 29]\n"
     ]
    }
   ],
   "source": [
    "ind = Individual()\n",
    "print(ind)"
   ]
  },
  {
   "cell_type": "code",
   "execution_count": 5,
   "id": "43ea091d",
   "metadata": {},
   "outputs": [
    {
     "data": {
      "text/plain": [
       "np.float64(0.33113831739592386)"
      ]
     },
     "execution_count": 5,
     "metadata": {},
     "output_type": "execute_result"
    }
   ],
   "source": [
    "ind.fitness()"
   ]
  },
  {
   "cell_type": "code",
   "execution_count": 6,
   "id": "dd2633e1",
   "metadata": {},
   "outputs": [],
   "source": [
    "artist_info = {\n",
    "    idx: {'popularity': row['popularity'], 'genre': row['genre']}\n",
    "    for idx, row in artists.iterrows()\n",
    "}"
   ]
  },
  {
   "cell_type": "code",
   "execution_count": 7,
   "id": "43700e0a",
   "metadata": {},
   "outputs": [
    {
     "data": {
      "text/plain": [
       "np.float64(0.5178571428571429)"
      ]
     },
     "execution_count": 7,
     "metadata": {},
     "output_type": "execute_result"
    }
   ],
   "source": [
    "ind.get_conflict_penalty(conflicts_matrix)"
   ]
  },
  {
   "cell_type": "code",
   "execution_count": 8,
   "id": "2887d652",
   "metadata": {},
   "outputs": [
    {
     "data": {
      "text/plain": [
       "0.6857142857142857"
      ]
     },
     "execution_count": 8,
     "metadata": {},
     "output_type": "execute_result"
    }
   ],
   "source": [
    "ind.get_genre_diversity(artist_info=artist_info)"
   ]
  },
  {
   "cell_type": "code",
   "execution_count": 9,
   "id": "9da8150b",
   "metadata": {},
   "outputs": [
    {
     "data": {
      "text/plain": [
       "0.8255578093306288"
      ]
     },
     "execution_count": 9,
     "metadata": {},
     "output_type": "execute_result"
    }
   ],
   "source": [
    "ind.get_prime_slot_popularity(artist_info=artist_info)"
   ]
  },
  {
   "cell_type": "code",
   "execution_count": 10,
   "id": "6b6f09ab",
   "metadata": {},
   "outputs": [
    {
     "name": "stdout",
     "output_type": "stream",
     "text": [
      "Index([ 0,  1,  2,  3,  4,  5,  6,  7,  8,  9, 10, 11, 12, 13, 14, 15, 16, 17,\n",
      "       18, 19, 20, 21, 22, 23, 24, 25, 26, 27, 28, 29, 30, 31, 32, 33, 34],\n",
      "      dtype='int64')\n"
     ]
    }
   ],
   "source": [
    "print(artists.index)"
   ]
  },
  {
   "cell_type": "code",
   "execution_count": 11,
   "id": "a4cbbf6b",
   "metadata": {},
   "outputs": [
    {
     "name": "stdout",
     "output_type": "stream",
     "text": [
      "Individual 0:\n",
      "Fitness: 0.3025\n",
      "Slot 1: [7, 17, 30, 23, 16]\n",
      "Slot 2: [15, 29, 3, 11, 13]\n",
      "Slot 3: [34, 6, 24, 12, 4]\n",
      "Slot 4: [20, 18, 2, 10, 21]\n",
      "Slot 5: [25, 5, 33, 28, 26]\n",
      "Slot 6: [9, 14, 32, 19, 22]\n",
      "Slot 7: [27, 0, 8, 31, 1]\n",
      "\n",
      "Individual 1:\n",
      "Fitness: 0.3608\n",
      "Slot 1: [8, 11, 29, 25, 0]\n",
      "Slot 2: [13, 16, 17, 12, 3]\n",
      "Slot 3: [4, 15, 27, 7, 32]\n",
      "Slot 4: [21, 1, 24, 22, 2]\n",
      "Slot 5: [31, 30, 34, 19, 23]\n",
      "Slot 6: [28, 6, 33, 26, 10]\n",
      "Slot 7: [9, 20, 5, 18, 14]\n",
      "\n",
      "Individual 2:\n",
      "Fitness: 0.3216\n",
      "Slot 1: [8, 28, 10, 34, 21]\n",
      "Slot 2: [32, 25, 31, 9, 5]\n",
      "Slot 3: [33, 2, 18, 3, 26]\n",
      "Slot 4: [16, 14, 7, 6, 20]\n",
      "Slot 5: [0, 23, 12, 4, 19]\n",
      "Slot 6: [13, 11, 1, 15, 27]\n",
      "Slot 7: [30, 22, 29, 24, 17]\n",
      "\n",
      "Individual 3:\n",
      "Fitness: 0.3391\n",
      "Slot 1: [22, 13, 16, 21, 4]\n",
      "Slot 2: [19, 15, 26, 33, 24]\n",
      "Slot 3: [12, 1, 18, 8, 27]\n",
      "Slot 4: [25, 20, 6, 34, 28]\n",
      "Slot 5: [7, 3, 29, 10, 2]\n",
      "Slot 6: [5, 11, 23, 9, 17]\n",
      "Slot 7: [32, 0, 14, 31, 30]\n",
      "\n",
      "Individual 4:\n",
      "Fitness: 0.3667\n",
      "Slot 1: [33, 12, 8, 22, 28]\n",
      "Slot 2: [24, 17, 0, 6, 20]\n",
      "Slot 3: [13, 34, 18, 29, 10]\n",
      "Slot 4: [2, 31, 4, 26, 19]\n",
      "Slot 5: [11, 23, 3, 30, 16]\n",
      "Slot 6: [5, 32, 27, 14, 7]\n",
      "Slot 7: [21, 25, 9, 1, 15]\n",
      "\n",
      "Individual 5:\n",
      "Fitness: 0.3004\n",
      "Slot 1: [18, 16, 4, 34, 28]\n",
      "Slot 2: [32, 12, 22, 3, 17]\n",
      "Slot 3: [8, 6, 25, 7, 10]\n",
      "Slot 4: [15, 0, 9, 13, 30]\n",
      "Slot 5: [1, 26, 33, 21, 29]\n",
      "Slot 6: [20, 19, 23, 14, 11]\n",
      "Slot 7: [5, 24, 31, 27, 2]\n",
      "\n",
      "Individual 6:\n",
      "Fitness: 0.2764\n",
      "Slot 1: [29, 9, 15, 17, 27]\n",
      "Slot 2: [12, 19, 26, 34, 28]\n",
      "Slot 3: [0, 4, 31, 24, 8]\n",
      "Slot 4: [18, 14, 5, 1, 3]\n",
      "Slot 5: [11, 33, 30, 23, 25]\n",
      "Slot 6: [16, 6, 7, 20, 21]\n",
      "Slot 7: [32, 22, 2, 13, 10]\n",
      "\n",
      "Individual 7:\n",
      "Fitness: 0.3177\n",
      "Slot 1: [3, 18, 7, 12, 24]\n",
      "Slot 2: [0, 14, 28, 33, 11]\n",
      "Slot 3: [1, 9, 25, 23, 21]\n",
      "Slot 4: [5, 8, 26, 10, 16]\n",
      "Slot 5: [4, 34, 27, 2, 29]\n",
      "Slot 6: [31, 32, 19, 20, 22]\n",
      "Slot 7: [6, 30, 15, 17, 13]\n",
      "\n",
      "Individual 8:\n",
      "Fitness: 0.3438\n",
      "Slot 1: [24, 32, 4, 20, 1]\n",
      "Slot 2: [5, 9, 14, 28, 3]\n",
      "Slot 3: [8, 16, 27, 6, 26]\n",
      "Slot 4: [11, 21, 33, 17, 23]\n",
      "Slot 5: [2, 12, 15, 29, 30]\n",
      "Slot 6: [18, 13, 19, 34, 25]\n",
      "Slot 7: [31, 0, 10, 22, 7]\n",
      "\n",
      "Individual 9:\n",
      "Fitness: 0.3416\n",
      "Slot 1: [13, 11, 17, 3, 6]\n",
      "Slot 2: [15, 34, 28, 32, 20]\n",
      "Slot 3: [7, 16, 18, 26, 31]\n",
      "Slot 4: [27, 29, 0, 1, 9]\n",
      "Slot 5: [10, 4, 24, 19, 25]\n",
      "Slot 6: [14, 30, 22, 23, 8]\n",
      "Slot 7: [33, 12, 2, 21, 5]\n",
      "\n",
      "Individual 10:\n",
      "Fitness: 0.2957\n",
      "Slot 1: [34, 16, 19, 4, 15]\n",
      "Slot 2: [14, 25, 13, 28, 26]\n",
      "Slot 3: [12, 7, 17, 24, 0]\n",
      "Slot 4: [27, 23, 10, 18, 22]\n",
      "Slot 5: [3, 30, 32, 29, 1]\n",
      "Slot 6: [31, 2, 11, 5, 9]\n",
      "Slot 7: [8, 33, 6, 21, 20]\n",
      "\n",
      "Individual 11:\n",
      "Fitness: 0.3472\n",
      "Slot 1: [24, 32, 0, 6, 13]\n",
      "Slot 2: [30, 2, 16, 18, 33]\n",
      "Slot 3: [8, 5, 28, 14, 3]\n",
      "Slot 4: [23, 9, 19, 31, 11]\n",
      "Slot 5: [15, 26, 12, 20, 4]\n",
      "Slot 6: [21, 1, 10, 7, 27]\n",
      "Slot 7: [22, 29, 34, 25, 17]\n",
      "\n",
      "Individual 12:\n",
      "Fitness: 0.3519\n",
      "Slot 1: [1, 2, 31, 5, 10]\n",
      "Slot 2: [18, 29, 25, 33, 26]\n",
      "Slot 3: [34, 12, 15, 7, 23]\n",
      "Slot 4: [16, 21, 14, 11, 28]\n",
      "Slot 5: [8, 32, 0, 3, 22]\n",
      "Slot 6: [6, 4, 24, 27, 17]\n",
      "Slot 7: [20, 19, 13, 9, 30]\n",
      "\n",
      "Individual 13:\n",
      "Fitness: 0.2766\n",
      "Slot 1: [0, 10, 17, 28, 9]\n",
      "Slot 2: [22, 5, 29, 16, 1]\n",
      "Slot 3: [34, 18, 12, 3, 4]\n",
      "Slot 4: [23, 11, 31, 8, 13]\n",
      "Slot 5: [27, 6, 14, 33, 15]\n",
      "Slot 6: [21, 19, 26, 30, 7]\n",
      "Slot 7: [20, 24, 25, 2, 32]\n",
      "\n",
      "Individual 14:\n",
      "Fitness: 0.3323\n",
      "Slot 1: [30, 4, 14, 16, 18]\n",
      "Slot 2: [9, 31, 12, 0, 10]\n",
      "Slot 3: [24, 27, 5, 7, 21]\n",
      "Slot 4: [15, 34, 22, 28, 20]\n",
      "Slot 5: [26, 32, 19, 29, 1]\n",
      "Slot 6: [11, 23, 6, 25, 8]\n",
      "Slot 7: [2, 3, 17, 33, 13]\n",
      "\n",
      "Individual 15:\n",
      "Fitness: 0.4222\n",
      "Slot 1: [12, 5, 32, 8, 20]\n",
      "Slot 2: [31, 18, 3, 11, 0]\n",
      "Slot 3: [1, 9, 29, 22, 17]\n",
      "Slot 4: [33, 28, 13, 6, 34]\n",
      "Slot 5: [14, 15, 24, 26, 19]\n",
      "Slot 6: [30, 16, 10, 2, 27]\n",
      "Slot 7: [21, 23, 25, 7, 4]\n",
      "\n",
      "Individual 16:\n",
      "Fitness: 0.2811\n",
      "Slot 1: [30, 10, 4, 17, 15]\n",
      "Slot 2: [1, 32, 14, 29, 6]\n",
      "Slot 3: [9, 13, 7, 28, 31]\n",
      "Slot 4: [19, 24, 18, 27, 33]\n",
      "Slot 5: [16, 8, 22, 26, 25]\n",
      "Slot 6: [5, 21, 0, 12, 20]\n",
      "Slot 7: [2, 3, 23, 11, 34]\n",
      "\n",
      "Individual 17:\n",
      "Fitness: 0.3476\n",
      "Slot 1: [33, 29, 11, 9, 13]\n",
      "Slot 2: [10, 3, 22, 17, 8]\n",
      "Slot 3: [28, 23, 21, 34, 20]\n",
      "Slot 4: [4, 0, 14, 2, 27]\n",
      "Slot 5: [1, 26, 5, 6, 30]\n",
      "Slot 6: [24, 12, 7, 19, 15]\n",
      "Slot 7: [31, 32, 18, 16, 25]\n",
      "\n",
      "Individual 18:\n",
      "Fitness: 0.4120\n",
      "Slot 1: [6, 2, 25, 30, 16]\n",
      "Slot 2: [24, 23, 26, 22, 8]\n",
      "Slot 3: [28, 15, 12, 3, 31]\n",
      "Slot 4: [33, 32, 18, 17, 5]\n",
      "Slot 5: [34, 0, 21, 27, 13]\n",
      "Slot 6: [10, 19, 4, 20, 1]\n",
      "Slot 7: [7, 14, 9, 29, 11]\n",
      "\n",
      "Individual 19:\n",
      "Fitness: 0.2949\n",
      "Slot 1: [6, 2, 15, 3, 23]\n",
      "Slot 2: [18, 22, 14, 9, 11]\n",
      "Slot 3: [28, 25, 24, 29, 16]\n",
      "Slot 4: [7, 13, 32, 30, 19]\n",
      "Slot 5: [34, 5, 17, 10, 26]\n",
      "Slot 6: [8, 1, 20, 31, 27]\n",
      "Slot 7: [0, 21, 33, 12, 4]\n",
      "\n",
      "Individual 20:\n",
      "Fitness: 0.3039\n",
      "Slot 1: [21, 5, 10, 31, 2]\n",
      "Slot 2: [16, 26, 15, 12, 3]\n",
      "Slot 3: [13, 33, 17, 28, 14]\n",
      "Slot 4: [19, 18, 11, 0, 23]\n",
      "Slot 5: [27, 29, 25, 8, 6]\n",
      "Slot 6: [24, 20, 22, 7, 30]\n",
      "Slot 7: [34, 9, 4, 1, 32]\n",
      "\n",
      "Individual 21:\n",
      "Fitness: 0.3143\n",
      "Slot 1: [27, 3, 33, 0, 22]\n",
      "Slot 2: [26, 12, 5, 14, 24]\n",
      "Slot 3: [18, 13, 6, 20, 1]\n",
      "Slot 4: [21, 25, 17, 8, 32]\n",
      "Slot 5: [23, 16, 4, 28, 2]\n",
      "Slot 6: [7, 11, 29, 30, 31]\n",
      "Slot 7: [15, 19, 10, 34, 9]\n",
      "\n",
      "Individual 22:\n",
      "Fitness: 0.3406\n",
      "Slot 1: [18, 16, 14, 3, 7]\n",
      "Slot 2: [30, 11, 5, 12, 29]\n",
      "Slot 3: [8, 1, 24, 2, 27]\n",
      "Slot 4: [22, 4, 9, 31, 17]\n",
      "Slot 5: [20, 34, 32, 23, 10]\n",
      "Slot 6: [21, 0, 13, 26, 33]\n",
      "Slot 7: [19, 6, 25, 28, 15]\n",
      "\n",
      "Individual 23:\n",
      "Fitness: 0.3615\n",
      "Slot 1: [31, 32, 4, 6, 10]\n",
      "Slot 2: [27, 0, 34, 11, 17]\n",
      "Slot 3: [18, 12, 24, 21, 26]\n",
      "Slot 4: [8, 14, 28, 19, 33]\n",
      "Slot 5: [25, 20, 13, 2, 22]\n",
      "Slot 6: [5, 15, 3, 16, 7]\n",
      "Slot 7: [1, 30, 9, 29, 23]\n",
      "\n",
      "Individual 24:\n",
      "Fitness: 0.3340\n",
      "Slot 1: [3, 21, 19, 22, 4]\n",
      "Slot 2: [8, 27, 15, 1, 13]\n",
      "Slot 3: [33, 11, 23, 16, 10]\n",
      "Slot 4: [14, 30, 32, 18, 29]\n",
      "Slot 5: [31, 34, 9, 26, 7]\n",
      "Slot 6: [25, 5, 24, 2, 0]\n",
      "Slot 7: [6, 20, 28, 17, 12]\n",
      "\n",
      "Individual 25:\n",
      "Fitness: 0.2924\n",
      "Slot 1: [16, 3, 11, 19, 1]\n",
      "Slot 2: [21, 20, 0, 23, 24]\n",
      "Slot 3: [29, 27, 18, 15, 22]\n",
      "Slot 4: [12, 26, 25, 17, 2]\n",
      "Slot 5: [5, 13, 10, 31, 34]\n",
      "Slot 6: [6, 33, 32, 28, 14]\n",
      "Slot 7: [7, 4, 9, 8, 30]\n",
      "\n",
      "Individual 26:\n",
      "Fitness: 0.3465\n",
      "Slot 1: [23, 5, 28, 3, 33]\n",
      "Slot 2: [21, 29, 0, 27, 10]\n",
      "Slot 3: [34, 12, 13, 20, 7]\n",
      "Slot 4: [8, 14, 16, 26, 15]\n",
      "Slot 5: [2, 17, 30, 1, 9]\n",
      "Slot 6: [32, 18, 31, 4, 6]\n",
      "Slot 7: [22, 11, 24, 19, 25]\n",
      "\n",
      "Individual 27:\n",
      "Fitness: 0.3160\n",
      "Slot 1: [21, 2, 13, 11, 34]\n",
      "Slot 2: [14, 7, 5, 20, 25]\n",
      "Slot 3: [26, 6, 19, 0, 16]\n",
      "Slot 4: [28, 24, 12, 27, 1]\n",
      "Slot 5: [29, 8, 15, 17, 4]\n",
      "Slot 6: [30, 33, 31, 3, 18]\n",
      "Slot 7: [9, 10, 23, 22, 32]\n",
      "\n",
      "Individual 28:\n",
      "Fitness: 0.3306\n",
      "Slot 1: [30, 23, 18, 5, 8]\n",
      "Slot 2: [27, 24, 17, 33, 13]\n",
      "Slot 3: [12, 29, 9, 25, 11]\n",
      "Slot 4: [16, 6, 26, 0, 4]\n",
      "Slot 5: [15, 28, 20, 1, 2]\n",
      "Slot 6: [14, 19, 10, 21, 34]\n",
      "Slot 7: [22, 7, 3, 31, 32]\n",
      "\n",
      "Individual 29:\n",
      "Fitness: 0.2873\n",
      "Slot 1: [14, 20, 26, 2, 21]\n",
      "Slot 2: [29, 12, 18, 27, 0]\n",
      "Slot 3: [30, 33, 9, 32, 7]\n",
      "Slot 4: [24, 13, 5, 1, 23]\n",
      "Slot 5: [17, 8, 22, 4, 10]\n",
      "Slot 6: [25, 19, 34, 6, 16]\n",
      "Slot 7: [28, 15, 11, 3, 31]\n"
     ]
    }
   ],
   "source": [
    "pop = Population(30)\n",
    "print(pop)"
   ]
  },
  {
   "cell_type": "code",
   "execution_count": 12,
   "id": "d3f29bea",
   "metadata": {},
   "outputs": [
    {
     "data": {
      "text/plain": [
       "[Fitness: 0.4222\n",
       " Slot 1: [12, 5, 32, 8, 20]\n",
       " Slot 2: [31, 18, 3, 11, 0]\n",
       " Slot 3: [1, 9, 29, 22, 17]\n",
       " Slot 4: [33, 28, 13, 6, 34]\n",
       " Slot 5: [14, 15, 24, 26, 19]\n",
       " Slot 6: [30, 16, 10, 2, 27]\n",
       " Slot 7: [21, 23, 25, 7, 4],\n",
       " Fitness: 0.4120\n",
       " Slot 1: [6, 2, 25, 30, 16]\n",
       " Slot 2: [24, 23, 26, 22, 8]\n",
       " Slot 3: [28, 15, 12, 3, 31]\n",
       " Slot 4: [33, 32, 18, 17, 5]\n",
       " Slot 5: [34, 0, 21, 27, 13]\n",
       " Slot 6: [10, 19, 4, 20, 1]\n",
       " Slot 7: [7, 14, 9, 29, 11],\n",
       " Fitness: 0.3667\n",
       " Slot 1: [33, 12, 8, 22, 28]\n",
       " Slot 2: [24, 17, 0, 6, 20]\n",
       " Slot 3: [13, 34, 18, 29, 10]\n",
       " Slot 4: [2, 31, 4, 26, 19]\n",
       " Slot 5: [11, 23, 3, 30, 16]\n",
       " Slot 6: [5, 32, 27, 14, 7]\n",
       " Slot 7: [21, 25, 9, 1, 15],\n",
       " Fitness: 0.3615\n",
       " Slot 1: [31, 32, 4, 6, 10]\n",
       " Slot 2: [27, 0, 34, 11, 17]\n",
       " Slot 3: [18, 12, 24, 21, 26]\n",
       " Slot 4: [8, 14, 28, 19, 33]\n",
       " Slot 5: [25, 20, 13, 2, 22]\n",
       " Slot 6: [5, 15, 3, 16, 7]\n",
       " Slot 7: [1, 30, 9, 29, 23],\n",
       " Fitness: 0.3608\n",
       " Slot 1: [8, 11, 29, 25, 0]\n",
       " Slot 2: [13, 16, 17, 12, 3]\n",
       " Slot 3: [4, 15, 27, 7, 32]\n",
       " Slot 4: [21, 1, 24, 22, 2]\n",
       " Slot 5: [31, 30, 34, 19, 23]\n",
       " Slot 6: [28, 6, 33, 26, 10]\n",
       " Slot 7: [9, 20, 5, 18, 14],\n",
       " Fitness: 0.3519\n",
       " Slot 1: [1, 2, 31, 5, 10]\n",
       " Slot 2: [18, 29, 25, 33, 26]\n",
       " Slot 3: [34, 12, 15, 7, 23]\n",
       " Slot 4: [16, 21, 14, 11, 28]\n",
       " Slot 5: [8, 32, 0, 3, 22]\n",
       " Slot 6: [6, 4, 24, 27, 17]\n",
       " Slot 7: [20, 19, 13, 9, 30],\n",
       " Fitness: 0.3476\n",
       " Slot 1: [33, 29, 11, 9, 13]\n",
       " Slot 2: [10, 3, 22, 17, 8]\n",
       " Slot 3: [28, 23, 21, 34, 20]\n",
       " Slot 4: [4, 0, 14, 2, 27]\n",
       " Slot 5: [1, 26, 5, 6, 30]\n",
       " Slot 6: [24, 12, 7, 19, 15]\n",
       " Slot 7: [31, 32, 18, 16, 25],\n",
       " Fitness: 0.3472\n",
       " Slot 1: [24, 32, 0, 6, 13]\n",
       " Slot 2: [30, 2, 16, 18, 33]\n",
       " Slot 3: [8, 5, 28, 14, 3]\n",
       " Slot 4: [23, 9, 19, 31, 11]\n",
       " Slot 5: [15, 26, 12, 20, 4]\n",
       " Slot 6: [21, 1, 10, 7, 27]\n",
       " Slot 7: [22, 29, 34, 25, 17],\n",
       " Fitness: 0.3465\n",
       " Slot 1: [23, 5, 28, 3, 33]\n",
       " Slot 2: [21, 29, 0, 27, 10]\n",
       " Slot 3: [34, 12, 13, 20, 7]\n",
       " Slot 4: [8, 14, 16, 26, 15]\n",
       " Slot 5: [2, 17, 30, 1, 9]\n",
       " Slot 6: [32, 18, 31, 4, 6]\n",
       " Slot 7: [22, 11, 24, 19, 25],\n",
       " Fitness: 0.3438\n",
       " Slot 1: [24, 32, 4, 20, 1]\n",
       " Slot 2: [5, 9, 14, 28, 3]\n",
       " Slot 3: [8, 16, 27, 6, 26]\n",
       " Slot 4: [11, 21, 33, 17, 23]\n",
       " Slot 5: [2, 12, 15, 29, 30]\n",
       " Slot 6: [18, 13, 19, 34, 25]\n",
       " Slot 7: [31, 0, 10, 22, 7]]"
      ]
     },
     "execution_count": 12,
     "metadata": {},
     "output_type": "execute_result"
    }
   ],
   "source": [
    "pop.best_individuals(n=10)"
   ]
  },
  {
   "cell_type": "markdown",
   "id": "ce836d48",
   "metadata": {},
   "source": [
    "## Crossovers"
   ]
  },
  {
   "cell_type": "markdown",
   "id": "fd6616f5",
   "metadata": {},
   "source": [
    "### PMX Crossover"
   ]
  },
  {
   "cell_type": "code",
   "execution_count": 13,
   "id": "f0b3ad22",
   "metadata": {},
   "outputs": [
    {
     "name": "stdout",
     "output_type": "stream",
     "text": [
      "Parent 1:\n",
      "Fitness: 0.3543\n",
      "Slot 1: [23, 24, 13, 4, 30]\n",
      "Slot 2: [18, 11, 33, 0, 15]\n",
      "Slot 3: [27, 14, 19, 32, 21]\n",
      "Slot 4: [2, 26, 34, 3, 20]\n",
      "Slot 5: [17, 28, 16, 10, 12]\n",
      "Slot 6: [8, 6, 25, 22, 1]\n",
      "Slot 7: [7, 31, 9, 29, 5]\n",
      "Fitness: 0.35432676518883416\n",
      "\n",
      "Parent 2:\n",
      "Fitness: 0.4352\n",
      "Slot 1: [32, 26, 14, 24, 10]\n",
      "Slot 2: [12, 7, 21, 9, 17]\n",
      "Slot 3: [0, 16, 2, 6, 15]\n",
      "Slot 4: [28, 20, 18, 31, 19]\n",
      "Slot 5: [4, 34, 23, 8, 30]\n",
      "Slot 6: [29, 25, 33, 1, 11]\n",
      "Slot 7: [3, 5, 13, 27, 22]\n",
      "Fitness: 0.4351632377088767\n",
      "\n"
     ]
    }
   ],
   "source": [
    "parent1 = Individual()\n",
    "parent2 = Individual()\n",
    "\n",
    "print(\"Parent 1:\")\n",
    "print(parent1)\n",
    "print(\"Fitness:\", parent1.fitness())\n",
    "print()\n",
    "\n",
    "print(\"Parent 2:\")\n",
    "print(parent2)\n",
    "print(\"Fitness:\", parent2.fitness())\n",
    "print()"
   ]
  },
  {
   "cell_type": "code",
   "execution_count": 14,
   "id": "a18dc346",
   "metadata": {},
   "outputs": [],
   "source": [
    "# offspring1, offspring2 = pmx_crossover(parent1, parent2)\n",
    "\n",
    "# print(\"Offspring 1:\")\n",
    "# print(offspring1)\n",
    "# print(\"Fitness:\", offspring1.fitness())\n",
    "# print()\n",
    "\n",
    "# print(\"Offspring 2:\")\n",
    "# print(offspring2)\n",
    "# print(\"Fitness:\", offspring2.fitness())"
   ]
  },
  {
   "cell_type": "markdown",
   "id": "e594dbbf",
   "metadata": {},
   "source": [
    "### Eager Breeder Crossover"
   ]
  },
  {
   "cell_type": "code",
   "execution_count": 15,
   "id": "ddf72712",
   "metadata": {},
   "outputs": [
    {
     "name": "stdout",
     "output_type": "stream",
     "text": [
      "Parent 1:\n",
      "Fitness: 0.3970\n",
      "Slot 1: [25, 29, 21, 13, 33]\n",
      "Slot 2: [31, 34, 30, 16, 1]\n",
      "Slot 3: [17, 4, 6, 23, 0]\n",
      "Slot 4: [27, 10, 26, 22, 11]\n",
      "Slot 5: [19, 8, 20, 24, 9]\n",
      "Slot 6: [28, 2, 32, 15, 7]\n",
      "Slot 7: [3, 14, 5, 12, 18]\n",
      "Fitness: 0.3970235680479088\n",
      "\n",
      "Parent 2:\n",
      "Fitness: 0.4124\n",
      "Slot 1: [15, 11, 1, 2, 26]\n",
      "Slot 2: [28, 6, 18, 24, 33]\n",
      "Slot 3: [21, 13, 5, 12, 17]\n",
      "Slot 4: [22, 23, 0, 31, 32]\n",
      "Slot 5: [10, 34, 8, 4, 20]\n",
      "Slot 6: [16, 30, 3, 25, 9]\n",
      "Slot 7: [19, 29, 7, 14, 27]\n",
      "Fitness: 0.4124036511156186\n",
      "\n"
     ]
    }
   ],
   "source": [
    "parent1 = Individual()\n",
    "parent2 = Individual()\n",
    "\n",
    "print(\"Parent 1:\")\n",
    "print(parent1)\n",
    "print(\"Fitness:\", parent1.fitness())\n",
    "print()\n",
    "\n",
    "print(\"Parent 2:\")\n",
    "print(parent2)\n",
    "print(\"Fitness:\", parent2.fitness())\n",
    "print()"
   ]
  },
  {
   "cell_type": "code",
   "execution_count": 16,
   "id": "0460e31e",
   "metadata": {},
   "outputs": [
    {
     "name": "stdout",
     "output_type": "stream",
     "text": [
      "\n",
      "--- Top Slot Fitness Scores ---\n",
      "Slot  1 | Fitness: 0.3100 | Artists: [19, 8, 20, 24, 9]\n",
      "Slot  2 | Fitness: 0.3100 | Artists: [15, 11, 1, 2, 26]\n",
      "Slot  3 | Fitness: 0.2750 | Artists: [21, 13, 5, 12, 17]\n",
      "Slot  4 | Fitness: 0.2425 | Artists: [10, 34, 8, 4, 20]\n",
      "Slot  5 | Fitness: 0.2350 | Artists: [25, 29, 21, 13, 33]\n",
      "Slot  6 | Fitness: 0.2275 | Artists: [31, 34, 30, 16, 1]\n",
      "Slot  7 | Fitness: 0.2075 | Artists: [17, 4, 6, 23, 0]\n",
      "-----------------------------------\n",
      "\n",
      "Total artists expected: 35\n",
      "Duplicates detected: [17, 4, 34, 1, 21, 13, 8, 20]\n",
      "Missing artists: [32, 3, 7, 14, 18, 22, 27, 28]\n",
      "\n",
      "Replacing duplicate artist 17 in slot 0, stage 0 with missing artist 32\n",
      "Replacing duplicate artist 4 in slot 0, stage 1 with missing artist 7\n",
      "Replacing duplicate artist 34 in slot 1, stage 1 with missing artist 27\n",
      "Replacing duplicate artist 1 in slot 1, stage 4 with missing artist 3\n",
      "Replacing duplicate artist 21 in slot 2, stage 2 with missing artist 18\n",
      "Replacing duplicate artist 13 in slot 2, stage 3 with missing artist 22\n",
      "Replacing duplicate artist 8 in slot 3, stage 2 with missing artist 28\n",
      "Replacing duplicate artist 20 in slot 3, stage 4 with missing artist 14\n",
      "\n",
      "--- Final Offspring Representation ---\n",
      "Slot 1: [32, 7, 6, 23, 0]\n",
      "Slot 2: [31, 27, 30, 16, 3]\n",
      "Slot 3: [25, 29, 18, 22, 33]\n",
      "Slot 4: [10, 34, 28, 4, 14]\n",
      "Slot 5: [21, 13, 5, 12, 17]\n",
      "Slot 6: [15, 11, 1, 2, 26]\n",
      "Slot 7: [19, 8, 20, 24, 9]\n",
      "------------------------------------------\n",
      "\n",
      "Offspring 1:\n",
      "Fitness: 0.3856\n",
      "Slot 1: [32, 7, 6, 23, 0]\n",
      "Slot 2: [31, 27, 30, 16, 3]\n",
      "Slot 3: [25, 29, 18, 22, 33]\n",
      "Slot 4: [10, 34, 28, 4, 14]\n",
      "Slot 5: [21, 13, 5, 12, 17]\n",
      "Slot 6: [15, 11, 1, 2, 26]\n",
      "Slot 7: [19, 8, 20, 24, 9]\n",
      "Fitness: 0.38562832029363475\n",
      "\n"
     ]
    }
   ],
   "source": [
    "offspring1, offspring2 = fitness_based_slot_crossover(parent1, parent2, verbose=True)\n",
    "\n",
    "print(\"Offspring 1:\")\n",
    "print(offspring1)\n",
    "print(\"Fitness:\", offspring1.fitness())\n",
    "print()"
   ]
  },
  {
   "cell_type": "markdown",
   "id": "e09f755a",
   "metadata": {},
   "source": [
    "## Mutations"
   ]
  },
  {
   "cell_type": "code",
   "execution_count": 17,
   "id": "193051db",
   "metadata": {},
   "outputs": [
    {
     "name": "stdout",
     "output_type": "stream",
     "text": [
      "Swap 1: (5,2) [34] <--> (3,1) [33]\n",
      "Swap 2: (0,1) [8] <--> (3,0) [27]\n"
     ]
    },
    {
     "data": {
      "text/plain": [
       "Fitness: 0.3099\n",
       "Slot 1: [30, 27, 20, 10, 12]\n",
       "Slot 2: [19, 25, 23, 28, 31]\n",
       "Slot 3: [6, 13, 5, 9, 3]\n",
       "Slot 4: [8, 34, 11, 22, 17]\n",
       "Slot 5: [2, 18, 32, 1, 7]\n",
       "Slot 6: [24, 4, 33, 14, 21]\n",
       "Slot 7: [26, 16, 15, 0, 29]"
      ]
     },
     "execution_count": 17,
     "metadata": {},
     "output_type": "execute_result"
    }
   ],
   "source": [
    "n_swap_mutation(ind, n_swaps=2)"
   ]
  },
  {
   "cell_type": "code",
   "execution_count": 18,
   "id": "a640b735",
   "metadata": {},
   "outputs": [
    {
     "name": "stdout",
     "output_type": "stream",
     "text": [
      "Stage: 2, Slots: 5-6, Length: 2\n",
      "Before: [33, 15]\n",
      "After: [15, 33]\n"
     ]
    },
    {
     "data": {
      "text/plain": [
       "Fitness: 0.3088\n",
       "Slot 1: [30, 27, 20, 10, 12]\n",
       "Slot 2: [19, 25, 23, 28, 31]\n",
       "Slot 3: [6, 13, 5, 9, 3]\n",
       "Slot 4: [8, 34, 11, 22, 17]\n",
       "Slot 5: [2, 18, 32, 1, 7]\n",
       "Slot 6: [24, 4, 15, 14, 21]\n",
       "Slot 7: [26, 16, 33, 0, 29]"
      ]
     },
     "execution_count": 18,
     "metadata": {},
     "output_type": "execute_result"
    }
   ],
   "source": [
    "scramble_mutation(ind, max_segment_length=4)"
   ]
  },
  {
   "cell_type": "code",
   "execution_count": 19,
   "id": "b96cddea",
   "metadata": {},
   "outputs": [
    {
     "name": "stdout",
     "output_type": "stream",
     "text": [
      "Swapping row 6 (prime slot) with row 0\n",
      "Before - Prime Slot: [26, 16, 33, 0, 29]\n",
      "Before - Other Slot: [30, 27, 20, 10, 12]\n",
      "After - Prime Slot: [30, 27, 20, 10, 12]\n",
      "After - Other Slot : [26, 16, 33, 0, 29]\n"
     ]
    },
    {
     "data": {
      "text/plain": [
       "Fitness: 0.2777\n",
       "Slot 1: [26, 16, 33, 0, 29]\n",
       "Slot 2: [19, 25, 23, 28, 31]\n",
       "Slot 3: [6, 13, 5, 9, 3]\n",
       "Slot 4: [8, 34, 11, 22, 17]\n",
       "Slot 5: [2, 18, 32, 1, 7]\n",
       "Slot 6: [24, 4, 15, 14, 21]\n",
       "Slot 7: [30, 27, 20, 10, 12]"
      ]
     },
     "execution_count": 19,
     "metadata": {},
     "output_type": "execute_result"
    }
   ],
   "source": [
    "prime_slot_swap_mutation(ind)"
   ]
  },
  {
   "cell_type": "code",
   "execution_count": 20,
   "id": "69cfc605",
   "metadata": {},
   "outputs": [
    {
     "name": "stdout",
     "output_type": "stream",
     "text": [
      "Preserving rows: [2, 4, 5]\n"
     ]
    },
    {
     "data": {
      "text/plain": [
       "Fitness: 0.3241\n",
       "Slot 1: [20, 28, 16, 33, 34]\n",
       "Slot 2: [26, 17, 19, 31, 10]\n",
       "Slot 3: [6, 13, 5, 9, 3]\n",
       "Slot 4: [30, 22, 27, 29, 25]\n",
       "Slot 5: [2, 18, 32, 1, 7]\n",
       "Slot 6: [24, 4, 15, 14, 21]\n",
       "Slot 7: [8, 11, 12, 0, 23]"
      ]
     },
     "execution_count": 20,
     "metadata": {},
     "output_type": "execute_result"
    }
   ],
   "source": [
    "preserve_best_slots_mutation(ind, keep_ratio=0.5)"
   ]
  }
 ],
 "metadata": {
  "kernelspec": {
   "display_name": "base",
   "language": "python",
   "name": "python3"
  },
  "language_info": {
   "codemirror_mode": {
    "name": "ipython",
    "version": 3
   },
   "file_extension": ".py",
   "mimetype": "text/x-python",
   "name": "python",
   "nbconvert_exporter": "python",
   "pygments_lexer": "ipython3",
   "version": "3.12.4"
  }
 },
 "nbformat": 4,
 "nbformat_minor": 5
}
